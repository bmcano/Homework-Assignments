{
  "cells": [
    {
      "cell_type": "markdown",
      "metadata": {
        "id": "BJzO9Qav2p5C"
      },
      "source": [
        "# 1.Python Basic\n",
        "\n",
        "## 1.1 Variables\n",
        "### 1.1.1 string, integer, float, bool\n",
        "### Assign 1,1.0,True,'True' to x\n",
        "### Print x and the type of x\n",
        "### Transform data type between float and integer\n"
      ]
    },
    {
      "cell_type": "code",
      "execution_count": null,
      "metadata": {
        "colab": {
          "base_uri": "https://localhost:8080/"
        },
        "id": "H4C1f-i73SDB",
        "outputId": "f3b80732-cb44-4c3b-eb97-3fce648d05c5"
      },
      "outputs": [
        {
          "data": {
            "text/plain": [
              "(1, int)"
            ]
          },
          "execution_count": 1,
          "metadata": {},
          "output_type": "execute_result"
        }
      ],
      "source": [
        "# assign 1 to variable x and get the type of it\n",
        "x = 1\n",
        "x, type(x)\n"
      ]
    },
    {
      "cell_type": "code",
      "execution_count": null,
      "metadata": {
        "colab": {
          "base_uri": "https://localhost:8080/"
        },
        "id": "H9PhI7-I52vX",
        "outputId": "d54f383a-b8f1-469a-9ee9-b86ddbc35f47"
      },
      "outputs": [
        {
          "data": {
            "text/plain": [
              "(1.0, float)"
            ]
          },
          "execution_count": 26,
          "metadata": {},
          "output_type": "execute_result"
        }
      ],
      "source": [
        "x = 1.0\n",
        "x,type(x)"
      ]
    },
    {
      "cell_type": "code",
      "execution_count": null,
      "metadata": {
        "colab": {
          "base_uri": "https://localhost:8080/"
        },
        "id": "42R4ivTx56wJ",
        "outputId": "fbbcc321-2dbf-4e9b-99bd-4a4c321cd7a3"
      },
      "outputs": [
        {
          "data": {
            "text/plain": [
              "(True, bool)"
            ]
          },
          "execution_count": 27,
          "metadata": {},
          "output_type": "execute_result"
        }
      ],
      "source": [
        "x = True\n",
        "x, type(x)"
      ]
    },
    {
      "cell_type": "code",
      "execution_count": null,
      "metadata": {
        "colab": {
          "base_uri": "https://localhost:8080/"
        },
        "id": "ByGFEP6t2mg2",
        "outputId": "7293dec8-8dae-4fd6-a91a-f603f9de050b"
      },
      "outputs": [
        {
          "data": {
            "text/plain": [
              "('True', str)"
            ]
          },
          "execution_count": 28,
          "metadata": {},
          "output_type": "execute_result"
        }
      ],
      "source": [
        "x = 'True'\n",
        "x, type(x)"
      ]
    },
    {
      "cell_type": "code",
      "execution_count": null,
      "metadata": {
        "colab": {
          "base_uri": "https://localhost:8080/"
        },
        "id": "M3t248VQ5-SM",
        "outputId": "99accbfe-2c45-46df-e570-f33629c66e61"
      },
      "outputs": [
        {
          "data": {
            "text/plain": [
              "(1.0, float)"
            ]
          },
          "execution_count": 29,
          "metadata": {},
          "output_type": "execute_result"
        }
      ],
      "source": [
        "x = 1.0\n",
        "x,type(x)"
      ]
    },
    {
      "cell_type": "code",
      "execution_count": null,
      "metadata": {
        "colab": {
          "base_uri": "https://localhost:8080/"
        },
        "id": "OMhqF7x76CRh",
        "outputId": "d96ffbb1-ddaf-4cee-8494-12937987e09c"
      },
      "outputs": [
        {
          "data": {
            "text/plain": [
              "(1, int)"
            ]
          },
          "execution_count": 4,
          "metadata": {},
          "output_type": "execute_result"
        }
      ],
      "source": [
        "# transform the data type of x to int\n",
        "y = int(x)\n",
        "y,type(y)"
      ]
    },
    {
      "cell_type": "code",
      "execution_count": null,
      "metadata": {
        "colab": {
          "base_uri": "https://localhost:8080/"
        },
        "id": "WDj4KWR06IyC",
        "outputId": "4bf0fdbb-6f29-4a4d-d43e-bdd180caf0e4"
      },
      "outputs": [
        {
          "data": {
            "text/plain": [
              "(1.0, float)"
            ]
          },
          "execution_count": 5,
          "metadata": {},
          "output_type": "execute_result"
        }
      ],
      "source": [
        "# transform the data type of y to float\n",
        "x = float(y)\n",
        "x,type(x)"
      ]
    },
    {
      "cell_type": "markdown",
      "metadata": {
        "id": "yLrscl7i7Vfy"
      },
      "source": [
        "### 1.1.2 Calculations with variables"
      ]
    },
    {
      "cell_type": "code",
      "execution_count": null,
      "metadata": {
        "colab": {
          "base_uri": "https://localhost:8080/"
        },
        "id": "9G7ZvOPN65BV",
        "outputId": "98b41db4-9383-46ab-fa9c-c3be104ff54c"
      },
      "outputs": [
        {
          "name": "stdout",
          "output_type": "stream",
          "text": [
            "x+y: 10.0\n",
            "x*y: 16.0\n",
            "x^y: 64.0\n"
          ]
        }
      ],
      "source": [
        "x = 8\n",
        "y = 2.0\n",
        "z = x+y\n",
        "print('x+y:', z)\n",
        "z = x*y\n",
        "print('x*y:', z)\n",
        "z = x**y\n",
        "print('x^y:', z)\n"
      ]
    },
    {
      "cell_type": "markdown",
      "metadata": {
        "id": "DHk1EvUR9Iol"
      },
      "source": [
        "## 1.2 List\n",
        "### 1.2.1 List initialization"
      ]
    },
    {
      "cell_type": "code",
      "execution_count": null,
      "metadata": {
        "colab": {
          "base_uri": "https://localhost:8080/"
        },
        "id": "E_Luq1Wq8Vzg",
        "outputId": "d4e52bcd-6af7-4313-aa55-7aa444bbc1e4"
      },
      "outputs": [
        {
          "data": {
            "text/plain": [
              "list"
            ]
          },
          "execution_count": 8,
          "metadata": {},
          "output_type": "execute_result"
        }
      ],
      "source": [
        "# initialize an empty list\n",
        "x = []\n",
        "type(x)"
      ]
    },
    {
      "cell_type": "code",
      "execution_count": null,
      "metadata": {
        "colab": {
          "base_uri": "https://localhost:8080/"
        },
        "id": "c63LA9si8snQ",
        "outputId": "4f0c7d20-4c06-4786-cb85-465e7607dfd0"
      },
      "outputs": [
        {
          "data": {
            "text/plain": [
              "(list, int)"
            ]
          },
          "execution_count": 12,
          "metadata": {},
          "output_type": "execute_result"
        }
      ],
      "source": [
        "# initialize a list with one element\n",
        "x = [1]\n",
        "type(x), type(x[0])"
      ]
    },
    {
      "cell_type": "code",
      "execution_count": null,
      "metadata": {
        "colab": {
          "base_uri": "https://localhost:8080/"
        },
        "id": "Kjk-my4P9iPi",
        "outputId": "b6843766-66ce-4fa5-de85-acf3aafdce38"
      },
      "outputs": [
        {
          "data": {
            "text/plain": [
              "['string', 1, True, 1.0]"
            ]
          },
          "execution_count": 13,
          "metadata": {},
          "output_type": "execute_result"
        }
      ],
      "source": [
        "# initialize x with multiple elements\n",
        "x = ['string', 1, True, 1.0]\n",
        "x"
      ]
    },
    {
      "cell_type": "code",
      "execution_count": null,
      "metadata": {
        "colab": {
          "base_uri": "https://localhost:8080/"
        },
        "id": "7gaDJV8e-ffu",
        "outputId": "1fa54cfb-bf25-4267-d0a0-3fec5c31b429"
      },
      "outputs": [
        {
          "data": {
            "text/plain": [
              "[['string', 1, True, 1.0]]"
            ]
          },
          "execution_count": 14,
          "metadata": {},
          "output_type": "execute_result"
        }
      ],
      "source": [
        "# the element of a list could also be a list\n",
        "y = [x]\n",
        "y"
      ]
    },
    {
      "cell_type": "markdown",
      "metadata": {
        "id": "xA_MxyTo_FsY"
      },
      "source": [
        "### 1.2.2 Subset and slice of list\n"
      ]
    },
    {
      "cell_type": "code",
      "execution_count": null,
      "metadata": {
        "colab": {
          "base_uri": "https://localhost:8080/"
        },
        "id": "AZLHGkLU-vA1",
        "outputId": "c127b456-ba6e-40bc-b902-310e45d4a0b0"
      },
      "outputs": [
        {
          "data": {
            "text/plain": [
              "(4, ['string', 1, True, 1.0])"
            ]
          },
          "execution_count": 15,
          "metadata": {},
          "output_type": "execute_result"
        }
      ],
      "source": [
        "# len(x) returns the number of elements of x\n",
        "len(x),x"
      ]
    },
    {
      "cell_type": "code",
      "execution_count": null,
      "metadata": {
        "id": "Ga8VugKRbyJq",
        "outputId": "d7365999-9094-4d38-ece9-0df68d467eb6"
      },
      "outputs": [
        {
          "data": {
            "text/plain": [
              "1"
            ]
          },
          "execution_count": 16,
          "metadata": {},
          "output_type": "execute_result"
        }
      ],
      "source": [
        "# list y only has on element\n",
        "len(y)"
      ]
    },
    {
      "cell_type": "code",
      "execution_count": null,
      "metadata": {
        "id": "4yqCxgtpaoih",
        "outputId": "6862dc8d-f52e-4b7a-9dfc-f577d7c1a8d9"
      },
      "outputs": [
        {
          "data": {
            "text/plain": [
              "'string'"
            ]
          },
          "execution_count": 18,
          "metadata": {},
          "output_type": "execute_result"
        }
      ],
      "source": [
        "# x[idx] returns the element at index=idx\n",
        "idx = 0\n",
        "# return the first element of x\n",
        "x[idx]"
      ]
    },
    {
      "cell_type": "code",
      "execution_count": null,
      "metadata": {
        "id": "_vUvHkUhaoii",
        "outputId": "32c1b003-0c1c-4f89-a4e1-5b326ab2f74b"
      },
      "outputs": [
        {
          "data": {
            "text/plain": [
              "1.0"
            ]
          },
          "execution_count": 19,
          "metadata": {},
          "output_type": "execute_result"
        }
      ],
      "source": [
        "idx = len(x)-1\n",
        "# return the last element of x\n",
        "x[idx]"
      ]
    },
    {
      "cell_type": "code",
      "execution_count": null,
      "metadata": {
        "id": "oqCPr58Maoij",
        "outputId": "adc50a5e-3033-44b3-a0e8-ae94e04ff22c"
      },
      "outputs": [
        {
          "data": {
            "text/plain": [
              "['string', 1]"
            ]
          },
          "execution_count": 21,
          "metadata": {},
          "output_type": "execute_result"
        }
      ],
      "source": [
        "# x[startIdx:endIdx]\n",
        "# returns a subset of x starts from index 'startIdx' to 'endIdx'-1\n",
        "startIdx = 0\n",
        "endIdx = 2\n",
        "x[startIdx:endIdx]"
      ]
    },
    {
      "cell_type": "code",
      "execution_count": null,
      "metadata": {
        "colab": {
          "base_uri": "https://localhost:8080/"
        },
        "id": "PUCrjQpGBqlw",
        "outputId": "06e5315d-cc48-452a-cb61-0b2c94a83ca8"
      },
      "outputs": [
        {
          "data": {
            "text/plain": [
              "([1, 1, True, 1.0], [1, 1, True, 1.0])"
            ]
          },
          "execution_count": 29,
          "metadata": {},
          "output_type": "execute_result"
        }
      ],
      "source": [
        "# copy list, shallow copy,modify y, x will be also modified\n",
        "y = x\n",
        "y[0] = 1\n",
        "x,y"
      ]
    },
    {
      "cell_type": "code",
      "execution_count": null,
      "metadata": {
        "colab": {
          "base_uri": "https://localhost:8080/"
        },
        "id": "-ewgC-yuCVN6",
        "outputId": "f0a09101-6ac7-466a-e0ea-f4ea2041797b"
      },
      "outputs": [
        {
          "data": {
            "text/plain": [
              "([1, 1, True, 1.0], [1, 'string', True, 1.0])"
            ]
          },
          "execution_count": 28,
          "metadata": {},
          "output_type": "execute_result"
        }
      ],
      "source": [
        "# deep copy, modify z, x won't change\n",
        "z = x.copy()\n",
        "z[1] = 'string'\n",
        "x, z"
      ]
    },
    {
      "cell_type": "markdown",
      "metadata": {
        "id": "9kUDs71YD39C"
      },
      "source": [
        "### 1.2.3 Methods of list"
      ]
    },
    {
      "cell_type": "code",
      "execution_count": null,
      "metadata": {
        "id": "XBMOAi_LCfbo"
      },
      "outputs": [],
      "source": [
        "x = [1, 'string', True, 1.0]\n"
      ]
    },
    {
      "cell_type": "code",
      "execution_count": null,
      "metadata": {
        "colab": {
          "base_uri": "https://localhost:8080/"
        },
        "id": "Ry0dmLGAEkef",
        "outputId": "2c542a55-fbdd-4973-eb07-78ca319b52ae"
      },
      "outputs": [
        {
          "data": {
            "text/plain": [
              "1"
            ]
          },
          "execution_count": 35,
          "metadata": {},
          "output_type": "execute_result"
        }
      ],
      "source": [
        "# x.pop(index), return the element of x[index] and remove it from x\n",
        "x.pop(0)"
      ]
    },
    {
      "cell_type": "markdown",
      "metadata": {
        "id": "flcqatYbbyJr"
      },
      "source": [
        "# Your Task 1\n",
        "## Create a list 'array1' including elements 0, 0.0, [False], '0'\n",
        "## Print array1 and the data type of its elements\n",
        "## Change the string elements to int elements\n",
        "## Make a copy of the list 'array1' and name it as 'array2'\n",
        "## Change the element [False] of array2 to be True\n",
        "## Get the second element of array1 and remove it from array1\n",
        "## Print array1 and array2"
      ]
    },
    {
      "cell_type": "code",
      "execution_count": null,
      "metadata": {
        "id": "6DtJBWfybyJr"
      },
      "outputs": [],
      "source": [
        "# Complete task 1 here\n",
        "array1 = [0, 0.0, [False], '0']\n",
        "for i in array1:\n",
        "    print(i)\n",
        "    print(type(i))\n",
        "#\n",
        "#\n",
        "#\n"
      ]
    },
    {
      "cell_type": "markdown",
      "metadata": {
        "id": "tNzKQQHoGpGo"
      },
      "source": [
        "# 2. Numpy\n",
        "## A scientific computing package"
      ]
    },
    {
      "cell_type": "code",
      "execution_count": null,
      "metadata": {
        "id": "0Jc1-KQVFRNi"
      },
      "outputs": [],
      "source": [
        "import numpy as np\n"
      ]
    },
    {
      "cell_type": "code",
      "execution_count": null,
      "metadata": {
        "id": "0f15HU1EbyJt",
        "outputId": "93b2d8b4-a65c-43dd-b614-5399904a1772"
      },
      "outputs": [
        {
          "name": "stdout",
          "output_type": "stream",
          "text": [
            "<class 'list'>\n",
            "[1, 2, 3]\n"
          ]
        }
      ],
      "source": [
        "x = [1,2,3]\n",
        "print(type(x))\n",
        "print(x)"
      ]
    },
    {
      "cell_type": "code",
      "execution_count": null,
      "metadata": {
        "id": "IYmRnMnNGJRL",
        "outputId": "e7d8124b-daf5-460f-d6cb-dbf6adb747fe"
      },
      "outputs": [
        {
          "data": {
            "text/plain": [
              "numpy.ndarray"
            ]
          },
          "execution_count": 45,
          "metadata": {},
          "output_type": "execute_result"
        }
      ],
      "source": [
        "# initialize numpy array\n",
        "x = np.array([1,2,3])\n",
        "type(x)"
      ]
    },
    {
      "cell_type": "code",
      "execution_count": null,
      "metadata": {
        "colab": {
          "base_uri": "https://localhost:8080/"
        },
        "id": "-gO4F9TqHdMm",
        "outputId": "082419e0-e256-401b-fce8-32a804a34be4"
      },
      "outputs": [
        {
          "name": "stdout",
          "output_type": "stream",
          "text": [
            "x.shape (3, 2, 4)\n",
            "x.dtype float64\n",
            "y.shape (3, 2, 4)\n",
            "y.dtype int64\n",
            "z.shape (3, 2, 4)\n",
            "z.dtype bool\n"
          ]
        }
      ],
      "source": [
        "# Create a numpy float array of size 3x2x4\n",
        "x = np.ones((3,2,4),dtype=float)\n",
        "print(\"x.shape\", x.shape)\n",
        "print(\"x.dtype\", x.dtype)\n",
        "\n",
        "\n",
        "# Create a int array of size 3x2x4\n",
        "y = np.ones((3,2,4), dtype=int)\n",
        "print(\"y.shape\", y.shape)\n",
        "print(\"y.dtype\", y.dtype)\n",
        "\n",
        "\n",
        "# Create a boolean array of size 3x2x4\n",
        "z = np.ones((3,2,4), dtype=bool)\n",
        "\n",
        "print(\"z.shape\", z.shape)\n",
        "print(\"z.dtype\", z.dtype)\n"
      ]
    },
    {
      "cell_type": "code",
      "execution_count": null,
      "metadata": {
        "colab": {
          "base_uri": "https://localhost:8080/"
        },
        "id": "klZE6PahIWkA",
        "outputId": "baf2bb99-486d-43af-f1c4-cd61b3ce0624"
      },
      "outputs": [
        {
          "name": "stdout",
          "output_type": "stream",
          "text": [
            "(1, 1, 1)\n",
            "() 1.0\n",
            "(2, 2, 2)\n",
            "(1, 2, 4) (2, 2, 4)\n"
          ]
        }
      ],
      "source": [
        "# Create a subarray with the first entry of each dimension.\n",
        "print(x[:1,:1,:1].shape)\n",
        "\n",
        "# Keeping only one index returns a floating point number and not a array\n",
        "print(x[0,0,0].shape,x[0,0,0])\n",
        "\n",
        "# Create a subarray with the first entry of each dimension.\n",
        "print(x[:2,:,:2].shape)\n",
        "\n",
        "# Create a subarray with the first entry of each dimension.\n",
        "print(x[:1].shape, x[1:].shape)"
      ]
    },
    {
      "cell_type": "code",
      "execution_count": null,
      "metadata": {
        "colab": {
          "base_uri": "https://localhost:8080/"
        },
        "id": "C99AKJL0IjmP",
        "outputId": "cb376bd1-71e3-4762-e27d-8ca96fbafaf8"
      },
      "outputs": [
        {
          "name": "stdout",
          "output_type": "stream",
          "text": [
            "[1 3 5]\n",
            "[2 4 6]\n"
          ]
        }
      ],
      "source": [
        "# Creating an array of integers from 1 to 6\n",
        "x = np.array([1,2,3,4,5,6])\n",
        "\n",
        "# Create subarray starting with subindex 0 and skipping by 2\n",
        "print(x[::2])\n",
        "\n",
        "# Create subarray starting with subindex 1 and skipping by 2\n",
        "print(x[1::2])"
      ]
    },
    {
      "cell_type": "markdown",
      "metadata": {
        "id": "rENhPc_RbyJt"
      },
      "source": [
        "# 3. Matplotlib\n",
        "## A python plotting library"
      ]
    },
    {
      "cell_type": "code",
      "execution_count": null,
      "metadata": {
        "id": "GoAlLxO0byJu"
      },
      "outputs": [],
      "source": [
        "import matplotlib.pyplot as plt\n",
        "plt.rcParams[\"figure.figsize\"] = (4,3)"
      ]
    },
    {
      "cell_type": "code",
      "execution_count": null,
      "metadata": {
        "colab": {
          "base_uri": "https://localhost:8080/"
        },
        "id": "15iH1-osbyJu",
        "outputId": "e1aa0900-ba4c-4c0b-e1ca-622adce81ae6"
      },
      "outputs": [
        {
          "data": {
            "text/plain": [
              "((100,), (100,))"
            ]
          },
          "execution_count": 47,
          "metadata": {},
          "output_type": "execute_result"
        }
      ],
      "source": [
        "# Create a grid of samples from -10 to 10 with 100 entries\n",
        "x = np.linspace(-10,10,100)\n",
        "\n",
        "# Square each entry\n",
        "y = x**2\n",
        "\n",
        "#print the shape of x and y\n",
        "x.shape,y.shape\n"
      ]
    },
    {
      "cell_type": "code",
      "execution_count": null,
      "metadata": {
        "colab": {
          "base_uri": "https://localhost:8080/",
          "height": 265
        },
        "id": "BTDexiWLbyJu",
        "outputId": "42d11ebd-5347-489f-a8fd-45f250028aba"
      },
      "outputs": [
        {
          "data": {
            "image/png": "[encoded data removed]",
            "text/plain": [
              "<Figure size 400x300 with 1 Axes>"
            ]
          },
          "metadata": {},
          "output_type": "display_data"
        }
      ],
      "source": [
        "# Plotting\n",
        "plt.plot(x,y,'r*')\n",
        "plt.show()"
      ]
    },
    {
      "cell_type": "code",
      "execution_count": null,
      "metadata": {
        "colab": {
          "base_uri": "https://localhost:8080/"
        },
        "id": "c8wN_ujPbyJu",
        "outputId": "89cc2496-f935-4b7f-ca91-e0c0b418e3a6"
      },
      "outputs": [
        {
          "data": {
            "text/plain": [
              "(2, 100)"
            ]
          },
          "execution_count": 50,
          "metadata": {},
          "output_type": "execute_result"
        }
      ],
      "source": [
        "# stack two numpy arrays to be one\n",
        "z = np.vstack((x,y))\n",
        "z.shape"
      ]
    },
    {
      "cell_type": "code",
      "execution_count": null,
      "metadata": {
        "colab": {
          "base_uri": "https://localhost:8080/",
          "height": 265
        },
        "id": "yucqkO71byJu",
        "outputId": "7a4579d5-b112-4d6b-d9e9-3a7d5845dfe4"
      },
      "outputs": [
        {
          "data": {
            "image/png": "[encoded data removed]",
            "text/plain": [
              "<Figure size 400x300 with 1 Axes>"
            ]
          },
          "metadata": {},
          "output_type": "display_data"
        }
      ],
      "source": [
        "# get the slice of z, x = z[0,:],y = z[1,:]\n",
        "plt.plot(z[0,:],z[1,:],'r*')\n",
        "plt.show()\n",
        "np.save('test.npy',z)"
      ]
    },
    {
      "cell_type": "code",
      "execution_count": null,
      "metadata": {
        "id": "bqneN8m3aoiw"
      },
      "outputs": [],
      "source": [
        "# load 'test.npy' file\n",
        "z = np.load('test.npy')\n",
        "x = z[0,:]\n",
        "y = z[1,:]"
      ]
    },
    {
      "cell_type": "code",
      "execution_count": null,
      "metadata": {
        "id": "WDdxa4mMaoix",
        "outputId": "7bbe3c61-4c53-4bdf-e598-c8a8cdce3c3f"
      },
      "outputs": [
        {
          "data": {
            "text/plain": [
              "0"
            ]
          },
          "execution_count": 55,
          "metadata": {},
          "output_type": "execute_result"
        }
      ],
      "source": [
        "# get the index of the maximum of y\n",
        "maxIdx = y.argmax()\n",
        "maxIdx"
      ]
    },
    {
      "cell_type": "code",
      "execution_count": null,
      "metadata": {
        "colab": {
          "base_uri": "https://localhost:8080/",
          "height": 281
        },
        "id": "674qRo1LbyJu",
        "outputId": "2d0ca408-e4a5-4f83-a77e-b7cc4e0a086c"
      },
      "outputs": [
        {
          "data": {
            "image/png": "[encoded data removed]",
            "text/plain": [
              "<Figure size 400x300 with 1 Axes>"
            ]
          },
          "metadata": {},
          "output_type": "display_data"
        }
      ],
      "source": [
        "# plot x, y and the mark the maximum of y\n",
        "plt.plot(x,y,'g', label='z')\n",
        "plt.plot(x[maxIdx],y[maxIdx],'b*',label='max of z')\n",
        "# set title\n",
        "plt.title('title')\n",
        "# set x label\n",
        "plt.xlabel('x')\n",
        "# set the legend\n",
        "plt.legend()\n",
        "plt.savefig('test.png')\n",
        "plt.show()"
      ]
    },
    {
      "cell_type": "markdown",
      "metadata": {
        "id": "R8Q_cbRgJHOe"
      },
      "source": [
        "# Your Task 2\n",
        "## plot y = 3*cos(4x), sampling x from (-3.14,3.14) with 200 samples\n",
        "## save x and y to a 'xxx.npy' file\n",
        "## load the 'xxx.npy' file\n",
        "## compute z = 6x*sin(3x-1)\n",
        "## plot z with legend label '6x*sin(3x-1)'\n",
        "## plot y with legend label '3cos(4x)'\n",
        "## mark the minimum of z and y with legend label 'min of z' and 'min of y'\n",
        "## z, y, the minimum of z and y should be in the same figure\n",
        "## set the plot title as 'example figure', x-axis as 'x'\n",
        "## save figure as 'xx.png'"
      ]
    },
    {
      "cell_type": "code",
      "execution_count": null,
      "metadata": {
        "colab": {
          "base_uri": "https://localhost:8080/",
          "height": 295
        },
        "id": "94wLY9mzbyJv",
        "outputId": "181ebfa0-c84e-40d6-8ba4-56f3e43c00cc"
      },
      "outputs": [
        {
          "data": {
            "image/png": "[encoded data removed]",
            "text/plain": [
              "<Figure size 600x400 with 1 Axes>"
            ]
          },
          "metadata": {},
          "output_type": "display_data"
        }
      ],
      "source": [
        "# complete task 2 here\n",
        "\n",
        "# x =\n",
        "# y =\n",
        "\n",
        "\n",
        "# plt.figure(figsize=(6,4))\n",
        "#\n",
        "#\n",
        "#\n",
        "#\n",
        "# plt.show()"
      ]
    }
  ],
  "metadata": {
    "colab": {
      "provenance": []
    },
    "kernelspec": {
      "display_name": "Python 3 (ipykernel)",
      "language": "python",
      "name": "python3"
    },
    "language_info": {
      "codemirror_mode": {
        "name": "ipython",
        "version": 3
      },
      "file_extension": ".py",
      "mimetype": "text/x-python",
      "name": "python",
      "nbconvert_exporter": "python",
      "pygments_lexer": "ipython3",
      "version": "3.9.1"
    }
  },
  "nbformat": 4,
  "nbformat_minor": 0
}
