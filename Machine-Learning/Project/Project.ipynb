{
 "cells": [
  {
   "cell_type": "code",
   "execution_count": 12,
   "metadata": {},
   "outputs": [],
   "source": [
    "%matplotlib inline\n",
    "import numpy as np\n",
    "import matplotlib.pyplot as plt\n",
    "from scipy import stats\n",
    "from sklearn.datasets import fetch_openml\n",
    "import pickle\n",
    "from scipy.special import expit\n",
    "from sklearn.model_selection import train_test_split"
   ]
  },
  {
   "cell_type": "markdown",
   "metadata": {},
   "source": [
    "## Open MNIST data and create a subset with desired digits\n",
    "MNIST dataset contains 70,000 images of hand-written digits from 0 to 9. Each image has a grey-scale resolution of 28 $\\times$ 28 (i.e., 784 pixels). Each pixel has an integer value ranging from 0 (bright) to 255 (dark).\n",
    "\n",
    "<font color=red>Change the code below to select a different subset </font>"
   ]
  },
  {
   "cell_type": "code",
   "execution_count": 13,
   "metadata": {},
   "outputs": [
    {
     "ename": "AttributeError",
     "evalue": "partially initialized module 'pandas' has no attribute '_pandas_parser_CAPI' (most likely due to a circular import)",
     "output_type": "error",
     "traceback": [
      "\u001b[1;31m---------------------------------------------------------------------------\u001b[0m",
      "\u001b[1;31mAttributeError\u001b[0m                            Traceback (most recent call last)",
      "Cell \u001b[1;32mIn[13], line 1\u001b[0m\n\u001b[1;32m----> 1\u001b[0m X, y \u001b[38;5;241m=\u001b[39m \u001b[43mfetch_openml\u001b[49m\u001b[43m(\u001b[49m\u001b[38;5;124;43m\"\u001b[39;49m\u001b[38;5;124;43mmnist_784\u001b[39;49m\u001b[38;5;124;43m\"\u001b[39;49m\u001b[43m,\u001b[49m\u001b[43m \u001b[49m\u001b[43mversion\u001b[49m\u001b[38;5;241;43m=\u001b[39;49m\u001b[38;5;241;43m1\u001b[39;49m\u001b[43m,\u001b[49m\u001b[43m \u001b[49m\u001b[43mreturn_X_y\u001b[49m\u001b[38;5;241;43m=\u001b[39;49m\u001b[38;5;28;43;01mTrue\u001b[39;49;00m\u001b[43m,\u001b[49m\u001b[43m \u001b[49m\u001b[43mas_frame\u001b[49m\u001b[38;5;241;43m=\u001b[39;49m\u001b[38;5;28;43;01mFalse\u001b[39;49;00m\u001b[43m)\u001b[49m\n\u001b[0;32m      2\u001b[0m y \u001b[38;5;241m=\u001b[39m np\u001b[38;5;241m.\u001b[39masarray([\u001b[38;5;28mint\u001b[39m(numeric_string) \u001b[38;5;28;01mfor\u001b[39;00m numeric_string \u001b[38;5;129;01min\u001b[39;00m y])\n\u001b[0;32m      4\u001b[0m \u001b[38;5;66;03m# Change the conditions below to compare between other two digits.\u001b[39;00m\n",
      "File \u001b[1;32mc:\\Python312\\Lib\\site-packages\\sklearn\\utils\\_param_validation.py:213\u001b[0m, in \u001b[0;36mvalidate_params.<locals>.decorator.<locals>.wrapper\u001b[1;34m(*args, **kwargs)\u001b[0m\n\u001b[0;32m    207\u001b[0m \u001b[38;5;28;01mtry\u001b[39;00m:\n\u001b[0;32m    208\u001b[0m     \u001b[38;5;28;01mwith\u001b[39;00m config_context(\n\u001b[0;32m    209\u001b[0m         skip_parameter_validation\u001b[38;5;241m=\u001b[39m(\n\u001b[0;32m    210\u001b[0m             prefer_skip_nested_validation \u001b[38;5;129;01mor\u001b[39;00m global_skip_validation\n\u001b[0;32m    211\u001b[0m         )\n\u001b[0;32m    212\u001b[0m     ):\n\u001b[1;32m--> 213\u001b[0m         \u001b[38;5;28;01mreturn\u001b[39;00m \u001b[43mfunc\u001b[49m\u001b[43m(\u001b[49m\u001b[38;5;241;43m*\u001b[39;49m\u001b[43margs\u001b[49m\u001b[43m,\u001b[49m\u001b[43m \u001b[49m\u001b[38;5;241;43m*\u001b[39;49m\u001b[38;5;241;43m*\u001b[39;49m\u001b[43mkwargs\u001b[49m\u001b[43m)\u001b[49m\n\u001b[0;32m    214\u001b[0m \u001b[38;5;28;01mexcept\u001b[39;00m InvalidParameterError \u001b[38;5;28;01mas\u001b[39;00m e:\n\u001b[0;32m    215\u001b[0m     \u001b[38;5;66;03m# When the function is just a wrapper around an estimator, we allow\u001b[39;00m\n\u001b[0;32m    216\u001b[0m     \u001b[38;5;66;03m# the function to delegate validation to the estimator, but we replace\u001b[39;00m\n\u001b[0;32m    217\u001b[0m     \u001b[38;5;66;03m# the name of the estimator by the name of the function in the error\u001b[39;00m\n\u001b[0;32m    218\u001b[0m     \u001b[38;5;66;03m# message to avoid confusion.\u001b[39;00m\n\u001b[0;32m    219\u001b[0m     msg \u001b[38;5;241m=\u001b[39m re\u001b[38;5;241m.\u001b[39msub(\n\u001b[0;32m    220\u001b[0m         \u001b[38;5;124mr\u001b[39m\u001b[38;5;124m\"\u001b[39m\u001b[38;5;124mparameter of \u001b[39m\u001b[38;5;124m\\\u001b[39m\u001b[38;5;124mw+ must be\u001b[39m\u001b[38;5;124m\"\u001b[39m,\n\u001b[0;32m    221\u001b[0m         \u001b[38;5;124mf\u001b[39m\u001b[38;5;124m\"\u001b[39m\u001b[38;5;124mparameter of \u001b[39m\u001b[38;5;132;01m{\u001b[39;00mfunc\u001b[38;5;241m.\u001b[39m\u001b[38;5;18m__qualname__\u001b[39m\u001b[38;5;132;01m}\u001b[39;00m\u001b[38;5;124m must be\u001b[39m\u001b[38;5;124m\"\u001b[39m,\n\u001b[0;32m    222\u001b[0m         \u001b[38;5;28mstr\u001b[39m(e),\n\u001b[0;32m    223\u001b[0m     )\n",
      "File \u001b[1;32mc:\\Python312\\Lib\\site-packages\\sklearn\\datasets\\_openml.py:1056\u001b[0m, in \u001b[0;36mfetch_openml\u001b[1;34m(name, version, data_id, data_home, target_column, cache, return_X_y, as_frame, n_retries, delay, parser, read_csv_kwargs)\u001b[0m\n\u001b[0;32m   1054\u001b[0m \u001b[38;5;28;01mif\u001b[39;00m parser_ \u001b[38;5;241m==\u001b[39m \u001b[38;5;124m\"\u001b[39m\u001b[38;5;124mpandas\u001b[39m\u001b[38;5;124m\"\u001b[39m:\n\u001b[0;32m   1055\u001b[0m     \u001b[38;5;28;01mtry\u001b[39;00m:\n\u001b[1;32m-> 1056\u001b[0m         \u001b[43mcheck_pandas_support\u001b[49m\u001b[43m(\u001b[49m\u001b[38;5;124;43m\"\u001b[39;49m\u001b[38;5;124;43m`fetch_openml`\u001b[39;49m\u001b[38;5;124;43m\"\u001b[39;49m\u001b[43m)\u001b[49m\n\u001b[0;32m   1057\u001b[0m     \u001b[38;5;28;01mexcept\u001b[39;00m \u001b[38;5;167;01mImportError\u001b[39;00m \u001b[38;5;28;01mas\u001b[39;00m exc:\n\u001b[0;32m   1058\u001b[0m         \u001b[38;5;28;01mif\u001b[39;00m as_frame:\n",
      "File \u001b[1;32mc:\\Python312\\Lib\\site-packages\\sklearn\\utils\\_optional_dependencies.py:38\u001b[0m, in \u001b[0;36mcheck_pandas_support\u001b[1;34m(caller_name)\u001b[0m\n\u001b[0;32m     22\u001b[0m \u001b[38;5;250m\u001b[39m\u001b[38;5;124;03m\"\"\"Raise ImportError with detailed error message if pandas is not installed.\u001b[39;00m\n\u001b[0;32m     23\u001b[0m \n\u001b[0;32m     24\u001b[0m \u001b[38;5;124;03mPlot utilities like :func:`fetch_openml` should lazily import\u001b[39;00m\n\u001b[1;32m   (...)\u001b[0m\n\u001b[0;32m     35\u001b[0m \u001b[38;5;124;03m    The pandas package.\u001b[39;00m\n\u001b[0;32m     36\u001b[0m \u001b[38;5;124;03m\"\"\"\u001b[39;00m\n\u001b[0;32m     37\u001b[0m \u001b[38;5;28;01mtry\u001b[39;00m:\n\u001b[1;32m---> 38\u001b[0m     \u001b[38;5;28;01mimport\u001b[39;00m \u001b[38;5;21;01mpandas\u001b[39;00m  \u001b[38;5;66;03m# noqa\u001b[39;00m\n\u001b[0;32m     40\u001b[0m     \u001b[38;5;28;01mreturn\u001b[39;00m pandas\n\u001b[0;32m     41\u001b[0m \u001b[38;5;28;01mexcept\u001b[39;00m \u001b[38;5;167;01mImportError\u001b[39;00m \u001b[38;5;28;01mas\u001b[39;00m e:\n",
      "File \u001b[1;32mc:\\Python312\\Lib\\site-packages\\pandas\\__init__.py:151\u001b[0m\n\u001b[0;32m    132\u001b[0m \u001b[38;5;28;01mfrom\u001b[39;00m \u001b[38;5;21;01mpandas\u001b[39;00m\u001b[38;5;21;01m.\u001b[39;00m\u001b[38;5;21;01mcore\u001b[39;00m\u001b[38;5;21;01m.\u001b[39;00m\u001b[38;5;21;01mcomputation\u001b[39;00m\u001b[38;5;21;01m.\u001b[39;00m\u001b[38;5;21;01mapi\u001b[39;00m \u001b[38;5;28;01mimport\u001b[39;00m \u001b[38;5;28meval\u001b[39m\n\u001b[0;32m    134\u001b[0m \u001b[38;5;28;01mfrom\u001b[39;00m \u001b[38;5;21;01mpandas\u001b[39;00m\u001b[38;5;21;01m.\u001b[39;00m\u001b[38;5;21;01mcore\u001b[39;00m\u001b[38;5;21;01m.\u001b[39;00m\u001b[38;5;21;01mreshape\u001b[39;00m\u001b[38;5;21;01m.\u001b[39;00m\u001b[38;5;21;01mapi\u001b[39;00m \u001b[38;5;28;01mimport\u001b[39;00m (\n\u001b[0;32m    135\u001b[0m     concat,\n\u001b[0;32m    136\u001b[0m     lreshape,\n\u001b[1;32m   (...)\u001b[0m\n\u001b[0;32m    148\u001b[0m     qcut,\n\u001b[0;32m    149\u001b[0m )\n\u001b[1;32m--> 151\u001b[0m \u001b[38;5;28;01mfrom\u001b[39;00m \u001b[38;5;21;01mpandas\u001b[39;00m \u001b[38;5;28;01mimport\u001b[39;00m api, arrays, errors, io, plotting, tseries\n\u001b[0;32m    152\u001b[0m \u001b[38;5;28;01mfrom\u001b[39;00m \u001b[38;5;21;01mpandas\u001b[39;00m \u001b[38;5;28;01mimport\u001b[39;00m testing\n\u001b[0;32m    153\u001b[0m \u001b[38;5;28;01mfrom\u001b[39;00m \u001b[38;5;21;01mpandas\u001b[39;00m\u001b[38;5;21;01m.\u001b[39;00m\u001b[38;5;21;01mutil\u001b[39;00m\u001b[38;5;21;01m.\u001b[39;00m\u001b[38;5;21;01m_print_versions\u001b[39;00m \u001b[38;5;28;01mimport\u001b[39;00m show_versions\n",
      "File \u001b[1;32mc:\\Python312\\Lib\\site-packages\\pandas\\api\\__init__.py:2\u001b[0m\n\u001b[0;32m      1\u001b[0m \u001b[38;5;124;03m\"\"\" public toolkit API \"\"\"\u001b[39;00m\n\u001b[1;32m----> 2\u001b[0m \u001b[38;5;28;01mfrom\u001b[39;00m \u001b[38;5;21;01mpandas\u001b[39;00m\u001b[38;5;21;01m.\u001b[39;00m\u001b[38;5;21;01mapi\u001b[39;00m \u001b[38;5;28;01mimport\u001b[39;00m (\n\u001b[0;32m      3\u001b[0m     extensions,\n\u001b[0;32m      4\u001b[0m     indexers,\n\u001b[0;32m      5\u001b[0m     interchange,\n\u001b[0;32m      6\u001b[0m     types,\n\u001b[0;32m      7\u001b[0m     typing,\n\u001b[0;32m      8\u001b[0m )\n\u001b[0;32m     10\u001b[0m __all__ \u001b[38;5;241m=\u001b[39m [\n\u001b[0;32m     11\u001b[0m     \u001b[38;5;124m\"\u001b[39m\u001b[38;5;124minterchange\u001b[39m\u001b[38;5;124m\"\u001b[39m,\n\u001b[0;32m     12\u001b[0m     \u001b[38;5;124m\"\u001b[39m\u001b[38;5;124mextensions\u001b[39m\u001b[38;5;124m\"\u001b[39m,\n\u001b[1;32m   (...)\u001b[0m\n\u001b[0;32m     15\u001b[0m     \u001b[38;5;124m\"\u001b[39m\u001b[38;5;124mtyping\u001b[39m\u001b[38;5;124m\"\u001b[39m,\n\u001b[0;32m     16\u001b[0m ]\n",
      "File \u001b[1;32mc:\\Python312\\Lib\\site-packages\\pandas\\api\\typing\\__init__.py:31\u001b[0m\n\u001b[0;32m     19\u001b[0m \u001b[38;5;28;01mfrom\u001b[39;00m \u001b[38;5;21;01mpandas\u001b[39;00m\u001b[38;5;21;01m.\u001b[39;00m\u001b[38;5;21;01mcore\u001b[39;00m\u001b[38;5;21;01m.\u001b[39;00m\u001b[38;5;21;01mwindow\u001b[39;00m \u001b[38;5;28;01mimport\u001b[39;00m (\n\u001b[0;32m     20\u001b[0m     Expanding,\n\u001b[0;32m     21\u001b[0m     ExpandingGroupby,\n\u001b[1;32m   (...)\u001b[0m\n\u001b[0;32m     26\u001b[0m     Window,\n\u001b[0;32m     27\u001b[0m )\n\u001b[0;32m     29\u001b[0m \u001b[38;5;66;03m# TODO: Can't import Styler without importing jinja2\u001b[39;00m\n\u001b[0;32m     30\u001b[0m \u001b[38;5;66;03m# from pandas.io.formats.style import Styler\u001b[39;00m\n\u001b[1;32m---> 31\u001b[0m \u001b[38;5;28;01mfrom\u001b[39;00m \u001b[38;5;21;01mpandas\u001b[39;00m\u001b[38;5;21;01m.\u001b[39;00m\u001b[38;5;21;01mio\u001b[39;00m\u001b[38;5;21;01m.\u001b[39;00m\u001b[38;5;21;01mjson\u001b[39;00m\u001b[38;5;21;01m.\u001b[39;00m\u001b[38;5;21;01m_json\u001b[39;00m \u001b[38;5;28;01mimport\u001b[39;00m JsonReader\n\u001b[0;32m     32\u001b[0m \u001b[38;5;28;01mfrom\u001b[39;00m \u001b[38;5;21;01mpandas\u001b[39;00m\u001b[38;5;21;01m.\u001b[39;00m\u001b[38;5;21;01mio\u001b[39;00m\u001b[38;5;21;01m.\u001b[39;00m\u001b[38;5;21;01mstata\u001b[39;00m \u001b[38;5;28;01mimport\u001b[39;00m StataReader\n\u001b[0;32m     34\u001b[0m __all__ \u001b[38;5;241m=\u001b[39m [\n\u001b[0;32m     35\u001b[0m     \u001b[38;5;124m\"\u001b[39m\u001b[38;5;124mDataFrameGroupBy\u001b[39m\u001b[38;5;124m\"\u001b[39m,\n\u001b[0;32m     36\u001b[0m     \u001b[38;5;124m\"\u001b[39m\u001b[38;5;124mDatetimeIndexResamplerGroupby\u001b[39m\u001b[38;5;124m\"\u001b[39m,\n\u001b[1;32m   (...)\u001b[0m\n\u001b[0;32m     54\u001b[0m     \u001b[38;5;124m\"\u001b[39m\u001b[38;5;124mWindow\u001b[39m\u001b[38;5;124m\"\u001b[39m,\n\u001b[0;32m     55\u001b[0m ]\n",
      "File \u001b[1;32mc:\\Python312\\Lib\\site-packages\\pandas\\io\\json\\__init__.py:1\u001b[0m\n\u001b[1;32m----> 1\u001b[0m \u001b[38;5;28;01mfrom\u001b[39;00m \u001b[38;5;21;01mpandas\u001b[39;00m\u001b[38;5;21;01m.\u001b[39;00m\u001b[38;5;21;01mio\u001b[39;00m\u001b[38;5;21;01m.\u001b[39;00m\u001b[38;5;21;01mjson\u001b[39;00m\u001b[38;5;21;01m.\u001b[39;00m\u001b[38;5;21;01m_json\u001b[39;00m \u001b[38;5;28;01mimport\u001b[39;00m (\n\u001b[0;32m      2\u001b[0m     read_json,\n\u001b[0;32m      3\u001b[0m     to_json,\n\u001b[0;32m      4\u001b[0m     ujson_dumps,\n\u001b[0;32m      5\u001b[0m     ujson_loads,\n\u001b[0;32m      6\u001b[0m )\n\u001b[0;32m      7\u001b[0m \u001b[38;5;28;01mfrom\u001b[39;00m \u001b[38;5;21;01mpandas\u001b[39;00m\u001b[38;5;21;01m.\u001b[39;00m\u001b[38;5;21;01mio\u001b[39;00m\u001b[38;5;21;01m.\u001b[39;00m\u001b[38;5;21;01mjson\u001b[39;00m\u001b[38;5;21;01m.\u001b[39;00m\u001b[38;5;21;01m_table_schema\u001b[39;00m \u001b[38;5;28;01mimport\u001b[39;00m build_table_schema\n\u001b[0;32m      9\u001b[0m __all__ \u001b[38;5;241m=\u001b[39m [\n\u001b[0;32m     10\u001b[0m     \u001b[38;5;124m\"\u001b[39m\u001b[38;5;124mujson_dumps\u001b[39m\u001b[38;5;124m\"\u001b[39m,\n\u001b[0;32m     11\u001b[0m     \u001b[38;5;124m\"\u001b[39m\u001b[38;5;124mujson_loads\u001b[39m\u001b[38;5;124m\"\u001b[39m,\n\u001b[1;32m   (...)\u001b[0m\n\u001b[0;32m     14\u001b[0m     \u001b[38;5;124m\"\u001b[39m\u001b[38;5;124mbuild_table_schema\u001b[39m\u001b[38;5;124m\"\u001b[39m,\n\u001b[0;32m     15\u001b[0m ]\n",
      "File \u001b[1;32mc:\\Python312\\Lib\\site-packages\\pandas\\io\\json\\_json.py:71\u001b[0m\n\u001b[0;32m     66\u001b[0m \u001b[38;5;28;01mfrom\u001b[39;00m \u001b[38;5;21;01mpandas\u001b[39;00m\u001b[38;5;21;01m.\u001b[39;00m\u001b[38;5;21;01mio\u001b[39;00m\u001b[38;5;21;01m.\u001b[39;00m\u001b[38;5;21;01mjson\u001b[39;00m\u001b[38;5;21;01m.\u001b[39;00m\u001b[38;5;21;01m_normalize\u001b[39;00m \u001b[38;5;28;01mimport\u001b[39;00m convert_to_line_delimits\n\u001b[0;32m     67\u001b[0m \u001b[38;5;28;01mfrom\u001b[39;00m \u001b[38;5;21;01mpandas\u001b[39;00m\u001b[38;5;21;01m.\u001b[39;00m\u001b[38;5;21;01mio\u001b[39;00m\u001b[38;5;21;01m.\u001b[39;00m\u001b[38;5;21;01mjson\u001b[39;00m\u001b[38;5;21;01m.\u001b[39;00m\u001b[38;5;21;01m_table_schema\u001b[39;00m \u001b[38;5;28;01mimport\u001b[39;00m (\n\u001b[0;32m     68\u001b[0m     build_table_schema,\n\u001b[0;32m     69\u001b[0m     parse_table_schema,\n\u001b[0;32m     70\u001b[0m )\n\u001b[1;32m---> 71\u001b[0m \u001b[38;5;28;01mfrom\u001b[39;00m \u001b[38;5;21;01mpandas\u001b[39;00m\u001b[38;5;21;01m.\u001b[39;00m\u001b[38;5;21;01mio\u001b[39;00m\u001b[38;5;21;01m.\u001b[39;00m\u001b[38;5;21;01mparsers\u001b[39;00m\u001b[38;5;21;01m.\u001b[39;00m\u001b[38;5;21;01mreaders\u001b[39;00m \u001b[38;5;28;01mimport\u001b[39;00m validate_integer\n\u001b[0;32m     73\u001b[0m \u001b[38;5;28;01mif\u001b[39;00m TYPE_CHECKING:\n\u001b[0;32m     74\u001b[0m     \u001b[38;5;28;01mfrom\u001b[39;00m \u001b[38;5;21;01mcollections\u001b[39;00m\u001b[38;5;21;01m.\u001b[39;00m\u001b[38;5;21;01mabc\u001b[39;00m \u001b[38;5;28;01mimport\u001b[39;00m (\n\u001b[0;32m     75\u001b[0m         Hashable,\n\u001b[0;32m     76\u001b[0m         Mapping,\n\u001b[0;32m     77\u001b[0m     )\n",
      "File \u001b[1;32mc:\\Python312\\Lib\\site-packages\\pandas\\io\\parsers\\__init__.py:1\u001b[0m\n\u001b[1;32m----> 1\u001b[0m \u001b[38;5;28;01mfrom\u001b[39;00m \u001b[38;5;21;01mpandas\u001b[39;00m\u001b[38;5;21;01m.\u001b[39;00m\u001b[38;5;21;01mio\u001b[39;00m\u001b[38;5;21;01m.\u001b[39;00m\u001b[38;5;21;01mparsers\u001b[39;00m\u001b[38;5;21;01m.\u001b[39;00m\u001b[38;5;21;01mreaders\u001b[39;00m \u001b[38;5;28;01mimport\u001b[39;00m (\n\u001b[0;32m      2\u001b[0m     TextFileReader,\n\u001b[0;32m      3\u001b[0m     TextParser,\n\u001b[0;32m      4\u001b[0m     read_csv,\n\u001b[0;32m      5\u001b[0m     read_fwf,\n\u001b[0;32m      6\u001b[0m     read_table,\n\u001b[0;32m      7\u001b[0m )\n\u001b[0;32m      9\u001b[0m __all__ \u001b[38;5;241m=\u001b[39m [\u001b[38;5;124m\"\u001b[39m\u001b[38;5;124mTextFileReader\u001b[39m\u001b[38;5;124m\"\u001b[39m, \u001b[38;5;124m\"\u001b[39m\u001b[38;5;124mTextParser\u001b[39m\u001b[38;5;124m\"\u001b[39m, \u001b[38;5;124m\"\u001b[39m\u001b[38;5;124mread_csv\u001b[39m\u001b[38;5;124m\"\u001b[39m, \u001b[38;5;124m\"\u001b[39m\u001b[38;5;124mread_fwf\u001b[39m\u001b[38;5;124m\"\u001b[39m, \u001b[38;5;124m\"\u001b[39m\u001b[38;5;124mread_table\u001b[39m\u001b[38;5;124m\"\u001b[39m]\n",
      "File \u001b[1;32mc:\\Python312\\Lib\\site-packages\\pandas\\io\\parsers\\readers.py:32\u001b[0m\n\u001b[0;32m     29\u001b[0m \u001b[38;5;28;01mfrom\u001b[39;00m \u001b[38;5;21;01mpandas\u001b[39;00m\u001b[38;5;21;01m.\u001b[39;00m\u001b[38;5;21;01m_config\u001b[39;00m \u001b[38;5;28;01mimport\u001b[39;00m using_copy_on_write\n\u001b[0;32m     31\u001b[0m \u001b[38;5;28;01mfrom\u001b[39;00m \u001b[38;5;21;01mpandas\u001b[39;00m\u001b[38;5;21;01m.\u001b[39;00m\u001b[38;5;21;01m_libs\u001b[39;00m \u001b[38;5;28;01mimport\u001b[39;00m lib\n\u001b[1;32m---> 32\u001b[0m \u001b[38;5;28;01mfrom\u001b[39;00m \u001b[38;5;21;01mpandas\u001b[39;00m\u001b[38;5;21;01m.\u001b[39;00m\u001b[38;5;21;01m_libs\u001b[39;00m\u001b[38;5;21;01m.\u001b[39;00m\u001b[38;5;21;01mparsers\u001b[39;00m \u001b[38;5;28;01mimport\u001b[39;00m STR_NA_VALUES\n\u001b[0;32m     33\u001b[0m \u001b[38;5;28;01mfrom\u001b[39;00m \u001b[38;5;21;01mpandas\u001b[39;00m\u001b[38;5;21;01m.\u001b[39;00m\u001b[38;5;21;01merrors\u001b[39;00m \u001b[38;5;28;01mimport\u001b[39;00m (\n\u001b[0;32m     34\u001b[0m     AbstractMethodError,\n\u001b[0;32m     35\u001b[0m     ParserWarning,\n\u001b[0;32m     36\u001b[0m )\n\u001b[0;32m     37\u001b[0m \u001b[38;5;28;01mfrom\u001b[39;00m \u001b[38;5;21;01mpandas\u001b[39;00m\u001b[38;5;21;01m.\u001b[39;00m\u001b[38;5;21;01mutil\u001b[39;00m\u001b[38;5;21;01m.\u001b[39;00m\u001b[38;5;21;01m_decorators\u001b[39;00m \u001b[38;5;28;01mimport\u001b[39;00m Appender\n",
      "File \u001b[1;32mparsers.pyx:1418\u001b[0m, in \u001b[0;36minit pandas._libs.parsers\u001b[1;34m()\u001b[0m\n",
      "\u001b[1;31mAttributeError\u001b[0m: partially initialized module 'pandas' has no attribute '_pandas_parser_CAPI' (most likely due to a circular import)"
     ]
    }
   ],
   "source": [
    "X, y = fetch_openml(\"mnist_784\", version=1, return_X_y=True, as_frame=False)\n",
    "y = np.asarray([int(numeric_string) for numeric_string in y])\n",
    "\n",
    "# Change the conditions below to compare between other two digits.\n",
    "class1Indices = (y==0)\n",
    "class2Indices = (y==1)\n",
    "\n",
    "x1 = X[class1Indices]\n",
    "x2 = X[class2Indices]\n",
    "\n",
    "Xtrain = np.concatenate((x1,x2),axis=0)\n",
    "ytrain = np.concatenate((np.zeros(x1.shape[0]),np.ones(x2.shape[0])),axis=0)\n",
    "\n",
    "# Saving the temporary variables for fast retrieval\n",
    "with open('temp.pickle', 'wb') as handle:\n",
    "    pickle.dump([Xtrain, ytrain], handle)\n",
    "\n"
   ]
  },
  {
   "cell_type": "markdown",
   "metadata": {},
   "source": [
    "# Split the data to training, testing, and validation subsets"
   ]
  },
  {
   "cell_type": "code",
   "execution_count": null,
   "metadata": {},
   "outputs": [],
   "source": [
    "# loading the temporary variables for fast retrieval\n",
    "with open('temp.pickle', 'rb') as handle:\n",
    "    Xtrain, ytrain = pickle.load(handle)\n",
    "    \n",
    "# Split the data to training, testing, and validation subsets\n",
    "X_train, X_test, y_train, y_test = train_test_split(Xtrain, ytrain, test_size=0.3, random_state=1)\n",
    "X_train, X_val, y_train, y_val = train_test_split(X_train, y_train, test_size=0.14, random_state=1) # 0.25 x 0.8 = 0.2\n",
    "\n",
    "Nsamples = X_train.shape[0]\n",
    "Nfeatures = X_train.shape[1]\n"
   ]
  },
  {
   "cell_type": "markdown",
   "metadata": {},
   "source": [
    "# Accuracy of a classifier"
   ]
  },
  {
   "cell_type": "code",
   "execution_count": null,
   "metadata": {},
   "outputs": [],
   "source": [
    "def testLinearClassifier(a,X,y):\n",
    "    # YOUR CODE HERE (2.)\n",
    "    predictions = (X @ a[:-1] + a[-1]) > 0\n",
    "    misclassifications = np.sum(predictions != y)\n",
    "    print(f\"Mis-classifications = {misclassifications} out of {y.size} equivalent to {misclassifications/(y.size) * 100} %\")\n",
    "    return misclassifications"
   ]
  },
  {
   "cell_type": "markdown",
   "metadata": {},
   "source": [
    "## Define and test gaussianClassifierWithIdentityCovariance "
   ]
  },
  {
   "cell_type": "code",
   "execution_count": null,
   "metadata": {},
   "outputs": [],
   "source": [
    "#------TRAINING CODE --------------\n",
    "def gaussianClassifierWithIdentityCovariance(Xtrain,ytrain):\n",
    "    # YOUR CODE HERE (3.)\n",
    "    X1 = Xtrain[ytrain == 0]\n",
    "    X2 = Xtrain[ytrain == 1]\n",
    "    # means\n",
    "    mu1 = np.mean(X1, axis=0)\n",
    "    mu2 = np.mean(X2, axis=0)\n",
    "    # priors\n",
    "    p1 = X1.shape[0] / Xtrain.shape[0]\n",
    "    p2 = X2.shape[0] / Xtrain.shape[0]\n",
    "    w = mu2 - mu1\n",
    "    w0 = -0.5 * (np.dot(mu2, mu2) - np.dot(mu1, mu1)) + np.log(p2 / p1)\n",
    "    a = np.hstack((w, w0))\n",
    "    return a\n",
    "\n",
    "#------SIMPLE TESTING ON THE TRAINING DATA ITSELF --------------\n",
    "a = gaussianClassifierWithIdentityCovariance(X_train,y_train)\n",
    "plt.imshow(np.reshape(a[0:784],(28,28)))\n",
    "\n",
    "train = testLinearClassifier(a,X_train,y_train)\n",
    "val = testLinearClassifier(a,X_val,y_val)\n",
    "test = testLinearClassifier(a,X_test,y_test)\n",
    "\n",
    "# testing to verify results\n",
    "# from sklearn.naive_bayes import GaussianNB\n",
    "# gnb = GaussianNB()\n",
    "# gnb.fit(X_train, y_train)\n",
    "# train_predictions = gnb.predict(X_train)\n",
    "# val_predictions = gnb.predict(X_val)\n",
    "# test_predictions = gnb.predict(X_test)\n",
    "# train_misclassifications = np.sum(train_predictions != y_train)\n",
    "# val_misclassifications = np.sum(val_predictions != y_val)\n",
    "# test_misclassifications = np.sum(test_predictions != y_test)\n",
    "# print(train_misclassifications)\n",
    "# print(val_misclassifications)\n",
    "# print(test_misclassifications)"
   ]
  },
  {
   "cell_type": "markdown",
   "metadata": {},
   "source": [
    "## Define and test gaussianClassifierWithCommonCovariance "
   ]
  },
  {
   "cell_type": "code",
   "execution_count": null,
   "metadata": {},
   "outputs": [],
   "source": [
    "#------TRAINING CODE --------------\n",
    "def gaussianClassifierWithCommonCovariance(Xtrain,ytrain):\n",
    "    # YOUR CODE HERE (4.)\n",
    "    X1 = Xtrain[ytrain == 0]\n",
    "    X2 = Xtrain[ytrain == 1]\n",
    "    # means\n",
    "    mu1 = np.mean(X1, axis=0)\n",
    "    mu2 = np.mean(X2, axis=0)\n",
    "    # priors\n",
    "    p1 = X1.shape[0] / Xtrain.shape[0]\n",
    "    p2 = X2.shape[0] / Xtrain.shape[0]\n",
    "\n",
    "    cov1 = np.cov(X1, rowvar=False)\n",
    "    cov2 = np.cov(X2, rowvar=False)\n",
    "    sigma = (p1 * cov1 + p2 * cov2)\n",
    "    sigma += np.eye(sigma.shape[0]) * 1 # add regularization term ?\n",
    "    \n",
    "    sigma_inv = np.linalg.inv(sigma)\n",
    "\n",
    "    w = np.dot(sigma_inv, mu2 - mu1)\n",
    "    w0 = (-0.5 * (np.dot(mu2, np.dot(sigma_inv, mu2)) - np.dot(mu1, np.dot(sigma_inv, mu1))) + np.log(p2 / p1))\n",
    "    a = np.hstack((w, w0))\n",
    "    return a\n",
    "    \n",
    "#------SIMPLE TESTING ON THE TRAINING DATA ITSELF --------------\n",
    "a = gaussianClassifierWithCommonCovariance(X_train,y_train)\n",
    "plt.imshow(np.reshape(a[0:784],(28,28)))\n",
    "\n",
    "train = testLinearClassifier(a,X_train,y_train)\n",
    "val = testLinearClassifier(a,X_val,y_val)\n",
    "test = testLinearClassifier(a,X_test,y_test)\n"
   ]
  },
  {
   "cell_type": "markdown",
   "metadata": {},
   "source": [
    "## Define and test logisticRegression \n",
    "\n",
    "You may choose the step size as 1e-4. You can try changing it.\n",
    "\n",
    "Use the expit() function from scipy.special.expit to implement sigmoid without overflow errors "
   ]
  },
  {
   "cell_type": "code",
   "execution_count": null,
   "metadata": {},
   "outputs": [],
   "source": [
    "def logisticRegression(Xtrain,ytrain,iterations=100,step_size=1e-4,verbose=False):\n",
    "    # YOUR CODE HERE (5.)\n",
    "    X_bias = np.hstack((Xtrain, np.ones((Xtrain.shape[0], 1))))\n",
    "    # a = 0.01 * np.random.randn(X_bias.shape[1]) # initialize weights randomly (?)\n",
    "    a = np.zeros(Xtrain.shape[1] + 1)\n",
    "    \n",
    "    for i in range(iterations):\n",
    "        z = np.dot(X_bias, a)\n",
    "        predictions = expit(z)\n",
    "\n",
    "        gradient = np.dot(X_bias.T, (predictions - ytrain)) / ytrain.size\n",
    "        a -= step_size * gradient\n",
    "\n",
    "        if verbose and i % (iterations // 10) == 0:\n",
    "            loss = -np.mean(ytrain * np.log(predictions + 1e-8) + (1 - ytrain) * np.log(1 - predictions + 1e-8))\n",
    "            print(f\"Iteration {i}: Loss = {loss:.6f}\")\n",
    "    \n",
    "    return a\n",
    "    \n",
    "#------SIMPLE TESTING ON THE TRAINING DATA ITSELF --------------\n",
    "a = logisticRegression(X_train,y_train,iterations=500,verbose=False)\n",
    "plt.imshow(np.reshape(a[0:784],(28,28)))\n",
    "\n",
    "train = testLinearClassifier(a,X_train,y_train)\n",
    "val = testLinearClassifier(a,X_val,y_val)\n",
    "test = testLinearClassifier(a,X_test,y_test)\n"
   ]
  },
  {
   "cell_type": "code",
   "execution_count": null,
   "metadata": {},
   "outputs": [],
   "source": [
    "def logisticRegressionWithRegularization(Xtrain,ytrain,iterations=100,step_size=1e-4,lam=1,verbose=False):\n",
    "    # YOUR CODE HERE (6.)\n",
    "    X_bias = np.hstack((Xtrain, np.ones((Xtrain.shape[0], 1))))\n",
    "\n",
    "    a = np.zeros(Xtrain.shape[1] + 1)\n",
    "\n",
    "    for i in range(iterations):\n",
    "        z = np.dot(X_bias, a)\n",
    "        predictions = expit(z)\n",
    "        gradient = np.dot(X_bias.T, (predictions - ytrain)) / ytrain.size\n",
    "        regularization = lam * a\n",
    "        regularization[-1] = 0\n",
    "        a -= step_size * (gradient + regularization)\n",
    "\n",
    "        if verbose and i % (iterations // 10) == 0:\n",
    "            # Compute regularized loss (logistic cost + L2 regularization)\n",
    "            loss = (-np.mean(ytrain * np.log(predictions + 1e-8) + (1 - ytrain) * np.log(1 - predictions + 1e-8)) +\n",
    "                    (lam / (2 * ytrain.size)) * np.sum(a[:-1] ** 2))\n",
    "            print(f\"Iteration {i}: Loss = {loss:.6f}\")\n",
    "\n",
    "    return a\n",
    "    \n",
    "#------SIMPLE TESTING ON THE TRAINING DATA ITSELF --------------\n",
    "a = logisticRegressionWithRegularization(X_train,y_train,iterations=500,verbose=False,lam=1)\n",
    "plt.imshow(np.reshape(a[0:784],(28,28)))\n",
    "\n",
    "train = testLinearClassifier(a,X_train,y_train)\n",
    "val = testLinearClassifier(a,X_val,y_val)\n",
    "test = testLinearClassifier(a,X_test,y_test)"
   ]
  },
  {
   "cell_type": "code",
   "execution_count": null,
   "metadata": {},
   "outputs": [],
   "source": [
    "def optimizeHyperparameters(Xtrain,ytrain, Xval, yval, Xtest, ytest, lambdas, iterations=500, step_size=1e-4):\n",
    "    # YOUR CODE HERE (7.)\n",
    "    lamopt = None\n",
    "    lowest_misclassifications = float('inf')\n",
    "\n",
    "    for lam in lambdas:\n",
    "        a = logisticRegressionWithRegularization(Xtrain, ytrain, iterations=iterations, step_size=step_size, lam=lam)\n",
    "        misclassifications = testLinearClassifier(a,Xval,yval)\n",
    "        if misclassifications < lowest_misclassifications:\n",
    "            lowest_misclassifications = misclassifications\n",
    "            lamopt = lam\n",
    "\n",
    "    a4 = logisticRegressionWithRegularization(Xtrain, ytrain, iterations=iterations, step_size=step_size, lam=lamopt)\n",
    "\n",
    "    # Evaluate on the test dataset\n",
    "    Xtest_bias = np.hstack((Xtest, np.ones((Xtest.shape[0], 1))))\n",
    "    test_predictions = (expit(np.dot(Xtest_bias, a4)) >= 0.5).astype(int)\n",
    "    test_accuracy = np.mean(test_predictions == ytest)\n",
    "\n",
    "    return lamopt, a4, (test_accuracy * 100)  \n",
    "\n",
    "lambdas = [0.01, 0.1, 1, 10, 100]\n",
    "# lambdas = [100, 10, 1, 0.1, 0.01]\n",
    "lamopt, a4, test_accuracy = optimizeHyperparameters(X_train, y_train, X_val, y_val, X_test, y_test, lambdas)\n",
    "print(\"Optimal λ:\", lamopt)\n",
    "print(\"Test Accurary:\", test_accuracy)"
   ]
  },
  {
   "cell_type": "markdown",
   "metadata": {},
   "source": [
    "# REPORT TEST ERRORS OF THE BEST MODELS\n",
    "\n",
    "YOUR CODE BELOW"
   ]
  },
  {
   "cell_type": "code",
   "execution_count": null,
   "metadata": {},
   "outputs": [],
   "source": [
    "def compareClassifiers(Xtrain, ytrain, Xval, yval, Xtest, ytest, lambdas, iterations=500, step_size=1e-4):\n",
    "    a1 = gaussianClassifierWithIdentityCovariance(Xtrain, ytrain)\n",
    "    misclassifications_a1 = testLinearClassifier(a1, Xtest, ytest)\n",
    "\n",
    "    a2 = gaussianClassifierWithCommonCovariance(Xtrain, ytrain)\n",
    "    misclassifications_a2 = testLinearClassifier(a2, Xtest, ytest)\n",
    "\n",
    "    a3 = logisticRegression(Xtrain, ytrain, iterations=iterations, step_size=step_size)\n",
    "    misclassifications_a3 = testLinearClassifier(a3, Xtest, ytest)\n",
    "\n",
    "    lamopt, a4, test_accuracy = optimizeHyperparameters(Xtrain, ytrain, Xval, yval, Xtest, ytest, lambdas, iterations=iterations, step_size=step_size)\n",
    "    misclassifications_a4 = testLinearClassifier(a4, Xtest, ytest)\n",
    "\n",
    "    # results\n",
    "    print(\"\\nPerformance Summary:\")\n",
    "    print(f\"Gaussian Classifier (Identity Covariance, a1): {misclassifications_a1} misclassifications\")\n",
    "    print(f\"Gaussian Classifier (Common Covariance, a2): {misclassifications_a2} misclassifications\")\n",
    "    print(f\"Logistic Regression (a3): {misclassifications_a3} misclassifications\")\n",
    "    print(f\"Regularized Logistic Regression (a4, λ={lamopt}): {misclassifications_a4} misclassifications\")\n",
    "    \n",
    "    return {\n",
    "        \"a1_misclassifications\": misclassifications_a1,\n",
    "        \"a2_misclassifications\": misclassifications_a2,\n",
    "        \"a3_misclassifications\": misclassifications_a3,\n",
    "        \"a4_misclassifications\": misclassifications_a4,\n",
    "        \"a4_lambda_optimal\": lamopt,\n",
    "        \"a4_test_accuracy\": test_accuracy,\n",
    "    }\n",
    "\n",
    "\n",
    "lambdas = [0.01, 0.1, 1, 10, 100]\n",
    "results = compareClassifiers(X_train, y_train, X_val, y_val, X_test, y_test, lambdas)\n",
    "print(results)"
   ]
  },
  {
   "cell_type": "markdown",
   "metadata": {},
   "source": [
    "# Component 2\n",
    "\n",
    "1. Load the MNIST dataset. Split this dataset into training (70%), validation (10%), and test dataset\n",
    "(20%)."
   ]
  },
  {
   "cell_type": "code",
   "execution_count": null,
   "metadata": {},
   "outputs": [],
   "source": [
    "import numpy as np\n",
    "import matplotlib.pyplot as plt\n",
    "from scipy import stats\n",
    "from sklearn.datasets import fetch_openml\n",
    "import pickle\n",
    "from scipy.special import expit\n",
    "from sklearn.model_selection import train_test_split\n",
    "\n",
    "X, y = fetch_openml(\"mnist_784\", version=1, return_X_y=True, as_frame=False)\n",
    "y = np.asarray([int(numeric_string) for numeric_string in y])\n",
    "\n",
    "Xtrain = X\n",
    "ytrain = y\n",
    "\n",
    "# Saving the temporary variables for fast retrieval\n",
    "with open('temp.pickle', 'wb') as handle:\n",
    "    pickle.dump([Xtrain, ytrain], handle)"
   ]
  },
  {
   "cell_type": "code",
   "execution_count": null,
   "metadata": {},
   "outputs": [],
   "source": [
    "# loading the temporary variables for fast retrieval\n",
    "with open('temp.pickle', 'rb') as handle:\n",
    "    Xtrain, ytrain = pickle.load(handle)\n",
    "    \n",
    "# Split the data to training, testing, and validation subsets\n",
    "X_train, X_test, y_train, y_test = train_test_split(Xtrain, ytrain, test_size=0.3, random_state=1)\n",
    "X_train, X_val, y_train, y_val = train_test_split(X_train, y_train, test_size=0.14, random_state=1) # 0.25 x 0.8 = 0.2\n",
    "\n",
    "Nsamples = X_train.shape[0]\n",
    "Nfeatures = X_train.shape[1]"
   ]
  },
  {
   "cell_type": "markdown",
   "metadata": {},
   "source": [
    "2. Develop a python function called gaussianMultiChannelClassifier"
   ]
  },
  {
   "cell_type": "code",
   "execution_count": null,
   "metadata": {},
   "outputs": [],
   "source": [
    "#------TRAINING CODE --------------\n",
    "def gaussianMultiChannelClassifier(Xtrain, ytrain):\n",
    "    n_classes = len(np.unique(ytrain))\n",
    "    n_features = Xtrain.shape[1]\n",
    "    A1 = np.zeros((n_features + 1, n_classes))\n",
    "\n",
    "    for i in range(n_classes):\n",
    "        X_i = Xtrain[ytrain == i]\n",
    "        mu_i = np.mean(X_i, axis=0)\n",
    "        prior_i = X_i.shape[0] / Xtrain.shape[0]\n",
    "        w = mu_i  # Σ = I -> w = μ_i\n",
    "        w0 = -0.5 * np.dot(mu_i, mu_i) + np.log(prior_i)\n",
    "        A1[:-1, i] = w\n",
    "        A1[-1, i] = w0\n",
    "\n",
    "    return A1\n",
    "\n",
    "#------SIMPLE TESTING ON THE TRAINING DATA ITSELF --------------\n",
    "A1 = gaussianMultiChannelClassifier(X_train, y_train)\n",
    "print(\"Matrix A2 shape:\", A1.shape)\n",
    "fig, axes = plt.subplots(1, 10, figsize=(15, 5))\n",
    "for i in range(10):\n",
    "    weights = A1[:-1, i]\n",
    "    image = np.reshape(weights, (28, 28))\n",
    "    axes[i].imshow(image, cmap='gray')\n",
    "    axes[i].set_title(f\"Class {i}\")\n",
    "    axes[i].axis('off')\n",
    "\n",
    "plt.suptitle(\"Weight Visualization (gaussianMultiChannelClassifier)\")\n",
    "plt.show()"
   ]
  },
  {
   "cell_type": "markdown",
   "metadata": {},
   "source": [
    "3. Develop a python function called logisticRegressionMultiClassClassifier"
   ]
  },
  {
   "cell_type": "code",
   "execution_count": null,
   "metadata": {},
   "outputs": [],
   "source": [
    "#------TRAINING CODE --------------\n",
    "def logisticRegressionMultiClassClassifier(Xtrain, ytrain, iterations=1000, step_size=1e-3):\n",
    "    n_samples, n_features = Xtrain.shape\n",
    "    n_classes = len(np.unique(ytrain))\n",
    "    X_bias = np.hstack((Xtrain, np.ones((n_samples, 1))))\n",
    "    # One-hot encode the labels\n",
    "    Y_onehot = np.zeros((n_samples, n_classes))\n",
    "    Y_onehot[np.arange(n_samples), ytrain.astype(int)] = 1\n",
    "    \n",
    "    A2 = np.zeros((n_features + 1, n_classes))\n",
    "    # Gradient descent\n",
    "    for _ in range(iterations):\n",
    "        scores = np.dot(X_bias, A2)\n",
    "        \n",
    "        exp_scores = np.exp(scores - np.max(scores, axis=1, keepdims=True))\n",
    "        probabilities = exp_scores / np.sum(exp_scores, axis=1, keepdims=True)\n",
    "        \n",
    "        gradient = np.dot(X_bias.T, (probabilities - Y_onehot)) / n_samples\n",
    "        A2 -= step_size * gradient\n",
    "\n",
    "    return A2\n",
    "\n",
    "#------SIMPLE TESTING ON THE TRAINING DATA ITSELF --------------\n",
    "A2 = logisticRegressionMultiClassClassifier(X_train, y_train)\n",
    "print(\"Matrix A2 shape:\", A2.shape)\n",
    "\n",
    "fig, axes = plt.subplots(1, 10, figsize=(15, 5))\n",
    "for i in range(10):\n",
    "    weights = A2[:-1, i]\n",
    "    image = np.reshape(weights, (28, 28))\n",
    "    axes[i].imshow(image, cmap='gray')\n",
    "    axes[i].set_title(f\"Class {i}\")\n",
    "    axes[i].axis('off')\n",
    "\n",
    "plt.suptitle(\"Learned Weights for Each Class (Logistic Regression)\")\n",
    "plt.show()"
   ]
  },
  {
   "cell_type": "markdown",
   "metadata": {},
   "source": [
    "4. Develop a python function called logisticRegressionMultiClassClassifierWithRegularization"
   ]
  },
  {
   "cell_type": "code",
   "execution_count": null,
   "metadata": {},
   "outputs": [],
   "source": [
    "#------TRAINING CODE --------------\n",
    "def logisticRegressionMultiClassClassifierWithRegularization(Xtrain, ytrain, lam = 0.1, iterations=100, step_size=1e-3):\n",
    "    n_samples, n_features = Xtrain.shape\n",
    "    n_classes = len(np.unique(ytrain))\n",
    "    \n",
    "    # Add a bias term to the feature matrix\n",
    "    X_bias = np.hstack((Xtrain, np.ones((n_samples, 1))))\n",
    "    \n",
    "    # One-hot encode the labels\n",
    "    Y_onehot = np.zeros((n_samples, n_classes))\n",
    "    Y_onehot[np.arange(n_samples), ytrain.astype(int)] = 1\n",
    "    \n",
    "    # Initialize weights randomly for all classes\n",
    "    A3 = np.zeros((n_features + 1, n_classes))\n",
    "    \n",
    "    # Gradient descent\n",
    "    for _ in range(iterations):\n",
    "        # Compute the scores for all classes\n",
    "        scores = np.dot(X_bias, A3)  # Shape: [n_samples, n_classes]\n",
    "        \n",
    "        # Apply the softmax function\n",
    "        exp_scores = np.exp(scores - np.max(scores, axis=1, keepdims=True))  # Stability trick\n",
    "        probabilities = exp_scores / np.sum(exp_scores, axis=1, keepdims=True)\n",
    "        \n",
    "        # Compute the gradient\n",
    "        gradient = np.dot(X_bias.T, (probabilities - Y_onehot)) / n_samples\n",
    "        \n",
    "        # Add regularization (excluding the bias term)\n",
    "        gradient[:-1] += lam * A3[:-1]  # Regularize only weights, not bias\n",
    "        \n",
    "        # Update the weights\n",
    "        A3 -= step_size * gradient\n",
    "\n",
    "    return A3\n",
    "\n",
    "#------SIMPLE TESTING ON THE TRAINING DATA ITSELF --------------\n",
    "A3 = logisticRegressionMultiClassClassifierWithRegularization(X_train, y_train, lam=0.1)\n",
    "print(\"Matrix A3 shape:\", A3.shape)  # Should be (n_features + 1, n_classes)\n",
    "\n",
    "fig, axes = plt.subplots(1, 10, figsize=(15, 5))  # Assuming 10 classes (digits 0–9)\n",
    "for i in range(10):\n",
    "    weights = A3[:-1, i]  # Exclude the bias term\n",
    "    image = np.reshape(weights, (28, 28))  # Reshape to 28x28 for MNIST\n",
    "    axes[i].imshow(image, cmap='gray')\n",
    "    axes[i].set_title(f\"Class {i}\")\n",
    "    axes[i].axis('off')\n",
    "\n",
    "plt.suptitle(\"Learned Weights for Each Class (Regularized Logistic Regression)\")\n",
    "plt.show()\n"
   ]
  },
  {
   "cell_type": "markdown",
   "metadata": {},
   "source": [
    "5. Write a function Optimize_MC_Hyperparameters to determine the optimal λ of logisticRegressionMultiClassClassifierWithRegularization."
   ]
  },
  {
   "cell_type": "code",
   "execution_count": null,
   "metadata": {},
   "outputs": [],
   "source": [
    "#------TRAINING CODE --------------\n",
    "def Optimize_MC_Hyperparameters(Xtrain, ytrain, Xval, yval, lambdas, iterations=100, step_size=1e-3):\n",
    "\n",
    "    best_lambda = None\n",
    "    lowest_misclassifications = float('inf')\n",
    "\n",
    "    for lam in lambdas:\n",
    "        # Train the model with the current λ\n",
    "        A3 = logisticRegressionMultiClassClassifierWithRegularization(\n",
    "            Xtrain, ytrain, lam=lam, iterations=iterations, step_size=step_size\n",
    "        )\n",
    "        \n",
    "        # Evaluate on the validation dataset\n",
    "        Xval_bias = np.hstack((Xval, np.ones((Xval.shape[0], 1))))  # Add bias term\n",
    "        scores = np.dot(Xval_bias, A3)  # Compute scores for each class\n",
    "        predictions = np.argmax(scores, axis=1)  # Predict the class with the highest score\n",
    "        misclassifications = np.sum(predictions != yval)  # Count misclassifications\n",
    "        \n",
    "        # Update the best λ if the current one is better\n",
    "        if misclassifications < lowest_misclassifications:\n",
    "            lowest_misclassifications = misclassifications\n",
    "            best_lambda = lam\n",
    "\n",
    "    # Train the model on the full training set using the optimal λ\n",
    "    A4 = logisticRegressionMultiClassClassifierWithRegularization(\n",
    "        Xtrain, ytrain, lam=best_lambda, iterations=iterations, step_size=step_size\n",
    "    )\n",
    "    \n",
    "    print(f\"Best Lambda: {best_lambda}\")\n",
    "    return A4\n",
    "\n",
    "#------SIMPLE TESTING ON THE TRAINING DATA ITSELF --------------\n",
    "lambdas = [0.01, 0.1, 1, 10, 100]\n",
    "A4 = Optimize_MC_Hyperparameters(X_train, y_train, X_val, y_val, lambdas)\n",
    "print(\"Matrix A4 shape:\", A4.shape)"
   ]
  },
  {
   "cell_type": "markdown",
   "metadata": {},
   "source": [
    "6. Write a function testLinearMCClassifier to test the performance of a multiclass classifier specified by its weights A."
   ]
  },
  {
   "cell_type": "code",
   "execution_count": null,
   "metadata": {},
   "outputs": [],
   "source": [
    "def testLinearMCClassifier(A, X, y):\n",
    "    Xtest_bias = np.hstack((X, np.ones((X.shape[0], 1))))\n",
    "    scores = np.dot(Xtest_bias, A)\n",
    "    predictions = np.argmax(scores, axis=1)\n",
    "    misclassifications = np.sum(predictions != y)\n",
    "    print(f\"Mis-classifications = {misclassifications} out of {y.size} equivalent to {misclassifications/(y.size) * 100} %\")\n",
    "    return misclassifications\n"
   ]
  },
  {
   "cell_type": "markdown",
   "metadata": {},
   "source": [
    "7. Write a script that would compare the performance all the above algorithms on the test subset."
   ]
  },
  {
   "cell_type": "code",
   "execution_count": null,
   "metadata": {},
   "outputs": [],
   "source": [
    "# Each prints results out by training, validation, and then test data\n",
    "# A1\n",
    "print(\"A1\")\n",
    "testLinearMCClassifier(A1, X_train, y_train)\n",
    "testLinearMCClassifier(A1, X_val, y_val)\n",
    "testLinearMCClassifier(A1, X_test, y_test)\n",
    "# A2\n",
    "print(\"A2\")\n",
    "testLinearMCClassifier(A2, X_train, y_train)\n",
    "testLinearMCClassifier(A2, X_val, y_val)\n",
    "testLinearMCClassifier(A2, X_test, y_test)\n",
    "# A3\n",
    "print(\"A3\")\n",
    "testLinearMCClassifier(A3, X_train, y_train)\n",
    "testLinearMCClassifier(A3, X_val, y_val)\n",
    "testLinearMCClassifier(A3, X_test,y_test)\n",
    "# A4\n",
    "print(\"A4\")\n",
    "testLinearMCClassifier(A4, X_train, y_train)\n",
    "testLinearMCClassifier(A4, X_val, y_val)\n",
    "testLinearMCClassifier(A4, X_test, y_test)"
   ]
  },
  {
   "cell_type": "markdown",
   "metadata": {},
   "source": [
    "# Component 3\n",
    "\n",
    "1. Load the MNIST dataset. Split this dataset into training (70%), validation (10%), and test dataset\n",
    "(20%)."
   ]
  },
  {
   "cell_type": "code",
   "execution_count": 16,
   "metadata": {},
   "outputs": [],
   "source": [
    "import numpy as np\n",
    "import matplotlib.pyplot as plt\n",
    "from scipy import stats\n",
    "from sklearn.datasets import fetch_openml\n",
    "import pickle\n",
    "from scipy.special import expit\n",
    "from sklearn.model_selection import train_test_split\n",
    "from sklearn.svm import SVC\n",
    "\n",
    "X, y = fetch_openml(\"mnist_784\", version=1, return_X_y=True, as_frame=False)\n",
    "y = np.asarray([int(numeric_string) for numeric_string in y])\n",
    "\n",
    "# Change the conditions below to compare between other two digits.\n",
    "class1Indices = (y==0)\n",
    "class2Indices = (y==1)\n",
    "\n",
    "x1 = X[class1Indices]\n",
    "x2 = X[class2Indices]\n",
    "\n",
    "Xtrain = np.concatenate((x1,x2),axis=0)\n",
    "ytrain = np.concatenate((np.zeros(x1.shape[0]),np.ones(x2.shape[0])),axis=0)\n",
    "\n",
    "# Saving the temporary variables for fast retrieval\n",
    "with open('temp.pickle', 'wb') as handle:\n",
    "    pickle.dump([Xtrain, ytrain], handle)"
   ]
  },
  {
   "cell_type": "code",
   "execution_count": 17,
   "metadata": {},
   "outputs": [],
   "source": [
    "# loading the temporary variables for fast retrieval\n",
    "with open('temp.pickle', 'rb') as handle:\n",
    "    Xtrain, ytrain = pickle.load(handle)\n",
    "    \n",
    "# Split the data to training, testing, and validation subsets\n",
    "X_train, X_test, y_train, y_test = train_test_split(Xtrain, ytrain, test_size=0.3, random_state=1)\n",
    "X_train, X_val, y_train, y_val = train_test_split(X_train, y_train, test_size=0.14, random_state=1) # 0.25 x 0.8 = 0.2\n",
    "\n",
    "Nsamples = X_train.shape[0]\n",
    "Nfeatures = X_train.shape[1]"
   ]
  },
  {
   "cell_type": "markdown",
   "metadata": {},
   "source": [
    "2. Use a linear kernel support vector machine to classify the above data.\n",
    "\n",
    "- Extract the support vectors and display them as 28x28 images. For the 0-1 classification, you\n",
    "would get 76 support vectors, which can be displayed as 63 images. These are the hardest images\n",
    "to classify."
   ]
  },
  {
   "cell_type": "code",
   "execution_count": 18,
   "metadata": {},
   "outputs": [
    {
     "name": "stdout",
     "output_type": "stream",
     "text": [
      "Number of support vectors: 69\n"
     ]
    },
    {
     "data": {
      "image/png": "[encoded data removed]",
      "text/plain": [
       "<Figure size 1200x400 with 63 Axes>"
      ]
     },
     "metadata": {},
     "output_type": "display_data"
    }
   ],
   "source": [
    "model = SVC(kernel='linear', C=1E10)\n",
    "model.fit(X_train, y_train)\n",
    "\n",
    "support_vectors = model.support_vectors_\n",
    "n_support = len(support_vectors)\n",
    "print(f\"Number of support vectors: {n_support}\")\n",
    "\n",
    "# Display support vectors as images\n",
    "fig, axes = plt.subplots(7, 9, figsize=(12, 4))\n",
    "axes = axes.flatten()\n",
    "for i, ax in enumerate(axes):\n",
    "    ax.imshow(support_vectors[i].reshape(28, 28), cmap='gray')\n",
    "    ax.axis('off')\n",
    "plt.suptitle(\"Support Vectors\")\n",
    "plt.show()\n"
   ]
  },
  {
   "cell_type": "markdown",
   "metadata": {},
   "source": [
    "- Plot the dual coefficients or Lagrange multipliers using the attribute `dual_coef_`, which corresponds to the weights for the support vectors."
   ]
  },
  {
   "cell_type": "code",
   "execution_count": 19,
   "metadata": {},
   "outputs": [
    {
     "data": {
      "image/png": "[encoded data removed]",
      "text/plain": [
       "<Figure size 1000x600 with 1 Axes>"
      ]
     },
     "metadata": {},
     "output_type": "display_data"
    },
    {
     "name": "stdout",
     "output_type": "stream",
     "text": [
      "Number of support vectors: 69\n",
      "Dual coefficients: [-4.71957995e-07 -2.62419933e-07 -1.58781259e-07 -4.18855492e-07\n",
      " -3.97954085e-07 -3.84871361e-07 -3.31012222e-08 -1.03094736e-07\n",
      " -1.32282264e-08 -2.60195726e-07 -3.84146884e-07 -2.28700306e-07\n",
      " -2.55068750e-07 -2.42727616e-07 -1.21059608e-08 -1.04797760e-06\n",
      " -5.51307876e-07 -4.43148915e-06 -2.07702894e-08 -6.55191191e-07\n",
      " -6.81596268e-07 -1.38735373e-06 -1.25028767e-06 -3.00160539e-08\n",
      " -4.14906643e-07 -4.67694283e-07 -2.99224018e-07 -1.98524517e-07\n",
      " -3.93270817e-06 -1.99147297e-06 -1.63692539e-06 -1.12795690e-06\n",
      " -4.42433888e-07 -3.74377549e-07 -5.13194341e-07 -4.58394858e-06\n",
      "  2.23089791e-07  3.89270400e-07  2.10618772e-06  6.86920182e-07\n",
      "  3.61286631e-07  9.37473513e-07  3.38896440e-07  3.80864753e-06\n",
      "  1.82350148e-06  5.76046130e-07  1.76429243e-08  3.57440259e-07\n",
      "  1.29581065e-06  5.00285993e-07  5.47840283e-07  2.35336484e-06\n",
      "  6.67479414e-07  9.10633374e-07  2.05429336e-06  1.93467681e-06\n",
      "  5.05087980e-08  4.83507594e-07  6.69133052e-07  4.61946236e-07\n",
      "  4.20809481e-07  2.82811314e-07  9.96032905e-07  8.01162616e-08\n",
      "  1.37662681e-06  4.13093995e-07  6.53081676e-07  5.39642363e-07\n",
      "  1.34846842e-06]\n"
     ]
    }
   ],
   "source": [
    "dual_coef = model.dual_coef_[0] \n",
    "support_indices = model.support_\n",
    "\n",
    "plt.figure(figsize=(10, 6))\n",
    "plt.bar(range(len(dual_coef)), dual_coef, color='blue', alpha=0.7)\n",
    "plt.xlabel(\"Support Vector Index\")\n",
    "plt.ylabel(\"Dual Coefficient Value\")\n",
    "plt.title(\"Lagrange Multipliers (Dual Coefficients) for Support Vectors\")\n",
    "plt.show()\n",
    "\n",
    "print(f\"Number of support vectors: {len(dual_coef)}\")\n",
    "print(f\"Dual coefficients: {dual_coef}\")\n"
   ]
  },
  {
   "cell_type": "markdown",
   "metadata": {},
   "source": [
    "- Use the `decision_function` function of the SVC to compute the value of the discriminant at the\n",
    "76 support vectors and plot them. The above function computes the discriminant for an arbitrary\n",
    "input vector. Explain why you get such a plot?"
   ]
  },
  {
   "cell_type": "code",
   "execution_count": null,
   "metadata": {},
   "outputs": [],
   "source": []
  }
 ],
 "metadata": {
  "anaconda-cloud": {},
  "kernelspec": {
   "display_name": "Python 3",
   "language": "python",
   "name": "python3"
  },
  "language_info": {
   "codemirror_mode": {
    "name": "ipython",
    "version": 3
   },
   "file_extension": ".py",
   "mimetype": "text/x-python",
   "name": "python",
   "nbconvert_exporter": "python",
   "pygments_lexer": "ipython3",
   "version": "3.12.1"
  }
 },
 "nbformat": 4,
 "nbformat_minor": 4
}
