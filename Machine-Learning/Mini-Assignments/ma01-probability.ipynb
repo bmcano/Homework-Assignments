{
 "cells": [
  {
   "cell_type": "markdown",
   "metadata": {},
   "source": [
    "#  <font color='blue'> Review of probability theory using python </font> \n",
    " \n",
    " \n",
    "Install tabulate package: pip install tabulate on mac\n",
    "\n",
    "We will use pandas to read a CSV file and to store data\n",
    "\n",
    "Documentation of pandas https://pandas.pydata.org/pandas-docs/stable/user_guide/10min.html"
   ]
  },
  {
   "cell_type": "code",
   "execution_count": 2,
   "metadata": {},
   "outputs": [],
   "source": [
    "import pandas as pd\n",
    "import numpy as np\n"
   ]
  },
  {
   "cell_type": "markdown",
   "metadata": {},
   "source": [
    "## Download student-mat.csv from ICON\n",
    "\n",
    "The csv file is downloaded from Kaggle \n",
    "https://www.kaggle.com/uciml/student-alcohol-consumption/data?select=student-mat.csv\n"
   ]
  },
  {
   "cell_type": "code",
   "execution_count": 3,
   "metadata": {},
   "outputs": [
    {
     "data": {
      "text/html": [
       "<div>\n",
       "<style scoped>\n",
       "    .dataframe tbody tr th:only-of-type {\n",
       "        vertical-align: middle;\n",
       "    }\n",
       "\n",
       "    .dataframe tbody tr th {\n",
       "        vertical-align: top;\n",
       "    }\n",
       "\n",
       "    .dataframe thead th {\n",
       "        text-align: right;\n",
       "    }\n",
       "</style>\n",
       "<table border=\"1\" class=\"dataframe\">\n",
       "  <thead>\n",
       "    <tr style=\"text-align: right;\">\n",
       "      <th></th>\n",
       "      <th>school</th>\n",
       "      <th>sex</th>\n",
       "      <th>age</th>\n",
       "      <th>address</th>\n",
       "      <th>famsize</th>\n",
       "      <th>Pstatus</th>\n",
       "      <th>Medu</th>\n",
       "      <th>Fedu</th>\n",
       "      <th>Mjob</th>\n",
       "      <th>Fjob</th>\n",
       "      <th>...</th>\n",
       "      <th>famrel</th>\n",
       "      <th>freetime</th>\n",
       "      <th>goout</th>\n",
       "      <th>Dalc</th>\n",
       "      <th>Walc</th>\n",
       "      <th>health</th>\n",
       "      <th>absences</th>\n",
       "      <th>G1</th>\n",
       "      <th>G2</th>\n",
       "      <th>G3</th>\n",
       "    </tr>\n",
       "  </thead>\n",
       "  <tbody>\n",
       "    <tr>\n",
       "      <th>0</th>\n",
       "      <td>GP</td>\n",
       "      <td>F</td>\n",
       "      <td>18</td>\n",
       "      <td>U</td>\n",
       "      <td>GT3</td>\n",
       "      <td>A</td>\n",
       "      <td>4</td>\n",
       "      <td>4</td>\n",
       "      <td>at_home</td>\n",
       "      <td>teacher</td>\n",
       "      <td>...</td>\n",
       "      <td>4</td>\n",
       "      <td>3</td>\n",
       "      <td>4</td>\n",
       "      <td>1</td>\n",
       "      <td>1</td>\n",
       "      <td>3</td>\n",
       "      <td>6</td>\n",
       "      <td>5</td>\n",
       "      <td>6</td>\n",
       "      <td>6</td>\n",
       "    </tr>\n",
       "    <tr>\n",
       "      <th>1</th>\n",
       "      <td>GP</td>\n",
       "      <td>F</td>\n",
       "      <td>17</td>\n",
       "      <td>U</td>\n",
       "      <td>GT3</td>\n",
       "      <td>T</td>\n",
       "      <td>1</td>\n",
       "      <td>1</td>\n",
       "      <td>at_home</td>\n",
       "      <td>other</td>\n",
       "      <td>...</td>\n",
       "      <td>5</td>\n",
       "      <td>3</td>\n",
       "      <td>3</td>\n",
       "      <td>1</td>\n",
       "      <td>1</td>\n",
       "      <td>3</td>\n",
       "      <td>4</td>\n",
       "      <td>5</td>\n",
       "      <td>5</td>\n",
       "      <td>6</td>\n",
       "    </tr>\n",
       "    <tr>\n",
       "      <th>2</th>\n",
       "      <td>GP</td>\n",
       "      <td>F</td>\n",
       "      <td>15</td>\n",
       "      <td>U</td>\n",
       "      <td>LE3</td>\n",
       "      <td>T</td>\n",
       "      <td>1</td>\n",
       "      <td>1</td>\n",
       "      <td>at_home</td>\n",
       "      <td>other</td>\n",
       "      <td>...</td>\n",
       "      <td>4</td>\n",
       "      <td>3</td>\n",
       "      <td>2</td>\n",
       "      <td>2</td>\n",
       "      <td>3</td>\n",
       "      <td>3</td>\n",
       "      <td>10</td>\n",
       "      <td>7</td>\n",
       "      <td>8</td>\n",
       "      <td>10</td>\n",
       "    </tr>\n",
       "  </tbody>\n",
       "</table>\n",
       "<p>3 rows × 33 columns</p>\n",
       "</div>"
      ],
      "text/plain": [
       "  school sex  age address famsize Pstatus  Medu  Fedu     Mjob     Fjob  ...  \\\n",
       "0     GP   F   18       U     GT3       A     4     4  at_home  teacher  ...   \n",
       "1     GP   F   17       U     GT3       T     1     1  at_home    other  ...   \n",
       "2     GP   F   15       U     LE3       T     1     1  at_home    other  ...   \n",
       "\n",
       "  famrel freetime  goout  Dalc  Walc health absences G1 G2  G3  \n",
       "0      4        3      4     1     1      3        6  5  6   6  \n",
       "1      5        3      3     1     1      3        4  5  5   6  \n",
       "2      4        3      2     2     3      3       10  7  8  10  \n",
       "\n",
       "[3 rows x 33 columns]"
      ]
     },
     "execution_count": 3,
     "metadata": {},
     "output_type": "execute_result"
    }
   ],
   "source": [
    "\n",
    "df = pd.read_csv('student-mat.csv')\n",
    "df.head(3)  # Select the first 3 rows of data\n"
   ]
  },
  {
   "cell_type": "markdown",
   "metadata": {},
   "source": [
    "## Create a smaller data frame with only two columns\n",
    "\n",
    "Grade A: G3  > 80%\n",
    "\n",
    "Absences: high absences, if a student missed 10 or more classes.\n"
   ]
  },
  {
   "cell_type": "code",
   "execution_count": 4,
   "metadata": {},
   "outputs": [
    {
     "data": {
      "text/html": [
       "<div>\n",
       "<style scoped>\n",
       "    .dataframe tbody tr th:only-of-type {\n",
       "        vertical-align: middle;\n",
       "    }\n",
       "\n",
       "    .dataframe tbody tr th {\n",
       "        vertical-align: top;\n",
       "    }\n",
       "\n",
       "    .dataframe thead th {\n",
       "        text-align: right;\n",
       "    }\n",
       "</style>\n",
       "<table border=\"1\" class=\"dataframe\">\n",
       "  <thead>\n",
       "    <tr style=\"text-align: right;\">\n",
       "      <th></th>\n",
       "      <th>Grade</th>\n",
       "      <th>Absences</th>\n",
       "      <th>count</th>\n",
       "    </tr>\n",
       "  </thead>\n",
       "  <tbody>\n",
       "    <tr>\n",
       "      <th>0</th>\n",
       "      <td>0</td>\n",
       "      <td>0</td>\n",
       "      <td>1</td>\n",
       "    </tr>\n",
       "    <tr>\n",
       "      <th>1</th>\n",
       "      <td>0</td>\n",
       "      <td>0</td>\n",
       "      <td>1</td>\n",
       "    </tr>\n",
       "    <tr>\n",
       "      <th>2</th>\n",
       "      <td>0</td>\n",
       "      <td>1</td>\n",
       "      <td>1</td>\n",
       "    </tr>\n",
       "    <tr>\n",
       "      <th>3</th>\n",
       "      <td>0</td>\n",
       "      <td>0</td>\n",
       "      <td>1</td>\n",
       "    </tr>\n",
       "    <tr>\n",
       "      <th>4</th>\n",
       "      <td>0</td>\n",
       "      <td>0</td>\n",
       "      <td>1</td>\n",
       "    </tr>\n",
       "    <tr>\n",
       "      <th>5</th>\n",
       "      <td>0</td>\n",
       "      <td>1</td>\n",
       "      <td>1</td>\n",
       "    </tr>\n",
       "    <tr>\n",
       "      <th>6</th>\n",
       "      <td>0</td>\n",
       "      <td>0</td>\n",
       "      <td>1</td>\n",
       "    </tr>\n",
       "    <tr>\n",
       "      <th>7</th>\n",
       "      <td>0</td>\n",
       "      <td>0</td>\n",
       "      <td>1</td>\n",
       "    </tr>\n",
       "    <tr>\n",
       "      <th>8</th>\n",
       "      <td>1</td>\n",
       "      <td>0</td>\n",
       "      <td>1</td>\n",
       "    </tr>\n",
       "    <tr>\n",
       "      <th>9</th>\n",
       "      <td>0</td>\n",
       "      <td>0</td>\n",
       "      <td>1</td>\n",
       "    </tr>\n",
       "  </tbody>\n",
       "</table>\n",
       "</div>"
      ],
      "text/plain": [
       "   Grade  Absences  count\n",
       "0      0         0      1\n",
       "1      0         0      1\n",
       "2      0         1      1\n",
       "3      0         0      1\n",
       "4      0         0      1\n",
       "5      0         1      1\n",
       "6      0         0      1\n",
       "7      0         0      1\n",
       "8      1         0      1\n",
       "9      0         0      1"
      ]
     },
     "execution_count": 4,
     "metadata": {},
     "output_type": "execute_result"
    }
   ],
   "source": [
    "newlist = pd.DataFrame()\n",
    "newlist['Grade'] = np.where(df['G3']*5 >= 80, 1, 0)     # df short notation for data frame\n",
    "newlist['Absences'] = np.where(df['absences'] >= 10, 1, 0)\n",
    "newlist['count'] = 1\n",
    "newlist.head(10)"
   ]
  },
  {
   "cell_type": "markdown",
   "metadata": {},
   "source": [
    "## Compute joint probabilities\n"
   ]
  },
  {
   "cell_type": "code",
   "execution_count": 5,
   "metadata": {
    "scrolled": true,
    "tags": []
   },
   "outputs": [
    {
     "name": "stdout",
     "output_type": "stream",
     "text": [
      "Joint Histogram\n",
      "-------------------\n",
      "Absences    0   1\n",
      "Grade            \n",
      "0         277  78\n",
      "1          35   5\n",
      "-------------------\n",
      "Joint Probabilities\n",
      "-------------------\n",
      "[[0.70126582 0.19746835]\n",
      " [0.08860759 0.01265823]]\n",
      "-------------------\n"
     ]
    }
   ],
   "source": [
    "Joint_table = pd.pivot_table(\n",
    "    newlist, \n",
    "    values='count', \n",
    "    index=['Grade'], \n",
    "    columns=['Absences'], \n",
    "    aggfunc=np.size, \n",
    "    fill_value=0\n",
    ")\n",
    "\n",
    "print(\"Joint Histogram\")\n",
    "print(\"-------------------\")\n",
    "print(Joint_table)\n",
    "print(\"-------------------\")\n",
    "\n",
    "Joint_table = Joint_table.to_numpy()\n",
    "Joint_Probabilities = Joint_table/len(newlist)\n",
    "\n",
    "print(\"Joint Probabilities\")\n",
    "print(\"-------------------\")\n",
    "print(Joint_Probabilities)\n",
    "print(\"-------------------\")\n"
   ]
  },
  {
   "cell_type": "markdown",
   "metadata": {},
   "source": [
    "## Compute marginal, and conditional probabilities\n",
    "\n",
    "Marginal probability\n",
    "$$P(X) = -\\sum_j p(x_i,y_j)$$\n",
    "\n",
    "Conditional probability P(X|Y=y): probability of x, if Y is fixed to a specific value\n",
    "$$P(X|Y) = p(x,y)/p(y)$$\n"
   ]
  },
  {
   "cell_type": "code",
   "execution_count": 6,
   "metadata": {
    "tags": []
   },
   "outputs": [
    {
     "name": "stdout",
     "output_type": "stream",
     "text": [
      "Marginal probability of Absences\n",
      "-------------------\n",
      "P(A) [0.78987342 0.21012658]\n",
      "-------------------\n",
      "\n",
      "Conditional probability of Grades given Absences P(G|A)\n",
      "---------------------------------\n",
      "[[0.88782051 0.93975904]\n",
      " [0.11217949 0.06024096]]\n",
      "---------------------------------\n"
     ]
    }
   ],
   "source": [
    "# P(A) Marginal probability of Absences: Sum along the grades axis (rows; axis = 0) \n",
    "\n",
    "PA = np.sum(Joint_Probabilities,axis=0)\n",
    "\n",
    "print(\"Marginal probability of Absences\")\n",
    "print(\"-------------------\")\n",
    "print('P(A)', PA)\n",
    "print(\"-------------------\\n\")\n",
    "\n",
    "\n",
    "# Conditional probabilities of Grades, given A\n",
    "# Broadcasting along the rows\n",
    "\n",
    "PGgivenA = Joint_Probabilities/PA[None,:]\n",
    "\n",
    "print(\"Conditional probability of Grades given Absences P(G|A)\")\n",
    "print(\"---------------------------------\")\n",
    "print(PGgivenA)\n",
    "print(\"---------------------------------\")\n"
   ]
  },
  {
   "cell_type": "markdown",
   "metadata": {},
   "source": [
    "## <font color=red> To do: Evaluate the probability of getting a grade A, if the student has been absent for more than ten times P(Grade=A|Absenses>=10)</font>\n",
    "\n",
    "1. Compute 'P(Grade=A|Absenses>=10')\n",
    "\n",
    "2. Compute 'P(Grade=A|Absenses<10')\n",
    "\n",
    "3. Add the two; what do you expect to get if you add the two? i.e. P(Grade=A|Absenses>=10) + P(Grade=A|Absenses<10)\n",
    "\n",
    "4. What will you get if you add P(Grade=A|Absenses>=10') and P(Grade<A|Absenses>=10')"
   ]
  },
  {
   "cell_type": "code",
   "execution_count": 7,
   "metadata": {},
   "outputs": [
    {
     "name": "stdout",
     "output_type": "stream",
     "text": [
      "P(Grade=A | Absences>=10): 0.060240963855421686\n",
      "P(Grade=A | Absences<10): 0.11217948717948718\n",
      "Sum of P(Grade=A | Absences>=10) and P(Grade=A | Absences<10): 0.17242045103490888\n",
      "Sum of P(Grade=A | Absences>=10) and P(Grade<A | Absences>=10): 1.0\n"
     ]
    }
   ],
   "source": [
    "prob_a_given_high_absenses = Joint_Probabilities[1, 1] / (Joint_Probabilities[0, 1] + Joint_Probabilities[1, 1])\n",
    "print(\"P(Grade=A | Absences>=10):\", prob_a_given_high_absenses)\n",
    "\n",
    "prob_a_given_low_absenses = Joint_Probabilities[1, 0] / (Joint_Probabilities[0, 0] + Joint_Probabilities[1, 0])\n",
    "print(\"P(Grade=A | Absences<10):\", prob_a_given_low_absenses)\n",
    "\n",
    "# I would expect that the value is not much higher than less absences getting an A, especially since most students don't get an A\n",
    "sum_probabilities = prob_a_given_high_absenses + prob_a_given_low_absenses\n",
    "print(\"Sum of P(Grade=A | Absences>=10) and P(Grade=A | Absences<10):\", sum_probabilities)\n",
    "\n",
    "# For this the answer should be one, since all grades are used\n",
    "prob_grade_not_a_given_high_absenses = 1 - prob_a_given_high_absenses\n",
    "sum_probabilities2 = prob_a_given_high_absenses + prob_grade_not_a_given_high_absenses\n",
    "print(\"Sum of P(Grade=A | Absences>=10) and P(Grade<A | Absences>=10):\", sum_probabilities2)\n",
    "\n"
   ]
  },
  {
   "cell_type": "markdown",
   "metadata": {},
   "source": [
    "## <font color=red> To do: compute the marginal probability P(g) and conditional probability P(A|G) </font>\n"
   ]
  },
  {
   "cell_type": "code",
   "execution_count": 8,
   "metadata": {},
   "outputs": [
    {
     "name": "stdout",
     "output_type": "stream",
     "text": [
      "P(Grade=A): 0.10126582278481013\n",
      "P(Absences>=10 | Grade=A): 0.125\n"
     ]
    }
   ],
   "source": [
    "prob_grade = np.sum(Joint_Probabilities[1, :])\n",
    "print(\"P(Grade=A):\", prob_grade)\n",
    "\n",
    "prob_absenses_given_a = Joint_Probabilities[1, 1] / prob_grade\n",
    "print(\"P(Absences>=10 | Grade=A):\", prob_absenses_given_a)\n"
   ]
  }
 ],
 "metadata": {
  "kernelspec": {
   "display_name": "Python 3",
   "language": "python",
   "name": "python3"
  },
  "language_info": {
   "codemirror_mode": {
    "name": "ipython",
    "version": 3
   },
   "file_extension": ".py",
   "mimetype": "text/x-python",
   "name": "python",
   "nbconvert_exporter": "python",
   "pygments_lexer": "ipython3",
   "version": "3.12.1"
  }
 },
 "nbformat": 4,
 "nbformat_minor": 4
}
